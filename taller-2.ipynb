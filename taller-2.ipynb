{
 "cells": [
  {
   "cell_type": "code",
   "execution_count": 1,
   "metadata": {},
   "outputs": [
    {
     "name": "stdout",
     "output_type": "stream",
     "text": [
      "Hello world\n"
     ]
    }
   ],
   "source": [
    "print(\"Hello world\")"
   ]
  },
  {
   "cell_type": "code",
   "execution_count": 2,
   "metadata": {},
   "outputs": [
    {
     "name": "stdout",
     "output_type": "stream",
     "text": [
      "Hello world from VScode and jupyter\n"
     ]
    }
   ],
   "source": [
    "msg = \"Hello world from VScode and jupyter\"\n",
    "print(msg)"
   ]
  },
  {
   "cell_type": "code",
   "execution_count": 1,
   "metadata": {},
   "outputs": [],
   "source": [
    "from sympy import *"
   ]
  },
  {
   "cell_type": "code",
   "execution_count": 2,
   "metadata": {},
   "outputs": [],
   "source": [
    "init_printing()"
   ]
  },
  {
   "cell_type": "code",
   "execution_count": 3,
   "metadata": {},
   "outputs": [],
   "source": [
    "x = symbols(\"x\")"
   ]
  },
  {
   "cell_type": "code",
   "execution_count": 4,
   "metadata": {},
   "outputs": [
    {
     "name": "stdout",
     "output_type": "stream",
     "text": [
      "x**64\n"
     ]
    }
   ],
   "source": [
    "from re import X\n",
    "\n",
    "\n",
    "print(x**X)"
   ]
  },
  {
   "cell_type": "code",
   "execution_count": 5,
   "metadata": {},
   "outputs": [],
   "source": [
    "x,y = symbols(\"x y\")"
   ]
  },
  {
   "cell_type": "code",
   "execution_count": 6,
   "metadata": {},
   "outputs": [],
   "source": [
    "a = symbols(\"alpha\")"
   ]
  },
  {
   "cell_type": "code",
   "execution_count": 7,
   "metadata": {},
   "outputs": [
    {
     "name": "stdout",
     "output_type": "stream",
     "text": [
      "alpha\n"
     ]
    }
   ],
   "source": [
    "print(a)"
   ]
  },
  {
   "cell_type": "code",
   "execution_count": 8,
   "metadata": {},
   "outputs": [
    {
     "data": {
      "image/png": "[encoded data removed]",
      "text/latex": [
       "$\\displaystyle \\alpha x y$"
      ],
      "text/plain": [
       "α⋅x⋅y"
      ]
     },
     "execution_count": 8,
     "metadata": {},
     "output_type": "execute_result"
    }
   ],
   "source": [
    "x*y*a"
   ]
  },
  {
   "cell_type": "code",
   "execution_count": 9,
   "metadata": {},
   "outputs": [],
   "source": [
    "x1 = symbols(\"x_1\")"
   ]
  },
  {
   "cell_type": "code",
   "execution_count": 10,
   "metadata": {},
   "outputs": [
    {
     "data": {
      "image/png": "[encoded data removed]",
      "text/latex": [
       "$\\displaystyle 2 x_{1}$"
      ],
      "text/plain": [
       "2⋅x₁"
      ]
     },
     "execution_count": 10,
     "metadata": {},
     "output_type": "execute_result"
    }
   ],
   "source": [
    "x1*2"
   ]
  },
  {
   "cell_type": "code",
   "execution_count": 11,
   "metadata": {},
   "outputs": [],
   "source": [
    "x = symbols(\"x_1:5\")"
   ]
  },
  {
   "cell_type": "code",
   "execution_count": 12,
   "metadata": {},
   "outputs": [
    {
     "data": {
      "image/png": "[encoded data removed]",
      "text/latex": [
       "$\\displaystyle \\left( x_{1}, \\  x_{2}, \\  x_{3}, \\  x_{4}\\right)$"
      ],
      "text/plain": [
       "(x₁, x₂, x₃, x₄)"
      ]
     },
     "execution_count": 12,
     "metadata": {},
     "output_type": "execute_result"
    }
   ],
   "source": [
    "x"
   ]
  },
  {
   "cell_type": "code",
   "execution_count": 13,
   "metadata": {},
   "outputs": [],
   "source": [
    "x1,x2,x3,x4,x5 = symbols(\"x_1:6\")"
   ]
  },
  {
   "cell_type": "code",
   "execution_count": 14,
   "metadata": {},
   "outputs": [
    {
     "data": {
      "image/png": "[encoded data removed]",
      "text/latex": [
       "$\\displaystyle x_{3}$"
      ],
      "text/plain": [
       "x₃"
      ]
     },
     "execution_count": 14,
     "metadata": {},
     "output_type": "execute_result"
    }
   ],
   "source": [
    "x3"
   ]
  },
  {
   "cell_type": "code",
   "execution_count": 15,
   "metadata": {},
   "outputs": [],
   "source": [
    "n = symbols(\"n\",integer=True, positive=True)"
   ]
  },
  {
   "cell_type": "code",
   "execution_count": 16,
   "metadata": {},
   "outputs": [
    {
     "data": {
      "image/png": "[encoded data removed]",
      "text/latex": [
       "$\\displaystyle \\left(-1\\right)^{n}$"
      ],
      "text/plain": [
       "    n\n",
       "(-1) "
      ]
     },
     "execution_count": 16,
     "metadata": {},
     "output_type": "execute_result"
    }
   ],
   "source": [
    "simplify(cos(n*pi))"
   ]
  },
  {
   "cell_type": "code",
   "execution_count": 17,
   "metadata": {},
   "outputs": [
    {
     "data": {
      "text/plain": [
       "{'integer': True,\n",
       " 'real': True,\n",
       " 'rational': True,\n",
       " 'complex': True,\n",
       " 'algebraic': True,\n",
       " 'irrational': False,\n",
       " 'noninteger': False,\n",
       " 'imaginary': False,\n",
       " 'hermitian': True,\n",
       " 'transcendental': False,\n",
       " 'infinite': False,\n",
       " 'commutative': True,\n",
       " 'finite': True,\n",
       " 'extended_real': True,\n",
       " 'positive': True,\n",
       " 'nonzero': True,\n",
       " 'extended_negative': False,\n",
       " 'nonnegative': True,\n",
       " 'extended_positive': True,\n",
       " 'extended_nonnegative': True,\n",
       " 'extended_nonpositive': False,\n",
       " 'nonpositive': False,\n",
       " 'zero': False,\n",
       " 'negative': False,\n",
       " 'extended_nonzero': True}"
      ]
     },
     "execution_count": 17,
     "metadata": {},
     "output_type": "execute_result"
    }
   ],
   "source": [
    "n.assumptions0"
   ]
  },
  {
   "cell_type": "code",
   "execution_count": 18,
   "metadata": {},
   "outputs": [],
   "source": [
    "## Simplificacion algebraica"
   ]
  },
  {
   "cell_type": "code",
   "execution_count": 19,
   "metadata": {},
   "outputs": [],
   "source": [
    "### Factorizar, simplificar, reunir expresiones, fracciones parciales"
   ]
  },
  {
   "cell_type": "code",
   "execution_count": 20,
   "metadata": {},
   "outputs": [
    {
     "name": "stdout",
     "output_type": "stream",
     "text": [
      "8\n"
     ]
    }
   ],
   "source": [
    "print(2**3)"
   ]
  },
  {
   "cell_type": "code",
   "execution_count": 21,
   "metadata": {},
   "outputs": [],
   "source": [
    "x = symbols(\"x\")"
   ]
  },
  {
   "cell_type": "code",
   "execution_count": 22,
   "metadata": {},
   "outputs": [
    {
     "data": {
      "image/png": "[encoded data removed]",
      "text/latex": [
       "$\\displaystyle \\left(x + 2\\right) \\left(x + 3\\right)$"
      ],
      "text/plain": [
       "(x + 2)⋅(x + 3)"
      ]
     },
     "execution_count": 22,
     "metadata": {},
     "output_type": "execute_result"
    }
   ],
   "source": [
    "factor(x**2+5*x+6)"
   ]
  },
  {
   "cell_type": "code",
   "execution_count": 23,
   "metadata": {},
   "outputs": [
    {
     "data": {
      "image/png": "[encoded data removed]",
      "text/latex": [
       "$\\displaystyle x^{5} + 5 x^{4} + 10 x^{3} + 10 x^{2} + 5 x + 1$"
      ],
      "text/plain": [
       " 5      4       3       2          \n",
       "x  + 5⋅x  + 10⋅x  + 10⋅x  + 5⋅x + 1"
      ]
     },
     "execution_count": 23,
     "metadata": {},
     "output_type": "execute_result"
    }
   ],
   "source": [
    "expand((x+1)**5) # desarrollar una expresion"
   ]
  },
  {
   "cell_type": "code",
   "execution_count": 24,
   "metadata": {},
   "outputs": [
    {
     "ename": "TypeError",
     "evalue": "'Add' object is not callable",
     "output_type": "error",
     "traceback": [
      "\u001b[0;31m---------------------------------------------------------------------------\u001b[0m",
      "\u001b[0;31mTypeError\u001b[0m                                 Traceback (most recent call last)",
      "\u001b[1;32m/Users/macbookair/Documents/Universidad San Carlos/2022/Segundo semestre/Matematica basica 2/Untitled-1.ipynb Cell 26\u001b[0m in \u001b[0;36m<cell line: 1>\u001b[0;34m()\u001b[0m\n\u001b[0;32m----> <a href='vscode-notebook-cell:/Users/macbookair/Documents/Universidad%20San%20Carlos/2022/Segundo%20semestre/Matematica%20basica%202/Untitled-1.ipynb#X34sZmlsZQ%3D%3D?line=0'>1</a>\u001b[0m expand((x\u001b[39m+\u001b[39;49m\u001b[39m2\u001b[39;49m)(x\u001b[39m+\u001b[39;49m\u001b[39m3\u001b[39;49m))\n",
      "\u001b[0;31mTypeError\u001b[0m: 'Add' object is not callable"
     ]
    }
   ],
   "source": [
    "expand((x+2)(x+3))"
   ]
  },
  {
   "cell_type": "code",
   "execution_count": 25,
   "metadata": {},
   "outputs": [
    {
     "data": {
      "image/png": "[encoded data removed]",
      "text/latex": [
       "$\\displaystyle 1$"
      ],
      "text/plain": [
       "1"
      ]
     },
     "execution_count": 25,
     "metadata": {},
     "output_type": "execute_result"
    }
   ],
   "source": [
    "simplify(cos(x)**2+sin(x)**2)"
   ]
  },
  {
   "cell_type": "code",
   "execution_count": 26,
   "metadata": {},
   "outputs": [
    {
     "data": {
      "image/png": "[encoded data removed]",
      "text/latex": [
       "$\\displaystyle 1$"
      ],
      "text/plain": [
       "1"
      ]
     },
     "execution_count": 26,
     "metadata": {},
     "output_type": "execute_result"
    }
   ],
   "source": [
    "(cos(x)**2+sin(x)**2).simplify()"
   ]
  },
  {
   "cell_type": "code",
   "execution_count": 28,
   "metadata": {},
   "outputs": [
    {
     "data": {
      "image/png": "[encoded data removed]",
      "text/latex": [
       "$\\displaystyle x^{10} + 10 x^{9} + 45 x^{8} + 120 x^{7} + 210 x^{6} + 252 x^{5} + 210 x^{4} + 120 x^{3} + 45 x^{2} + 10 x + 1$"
      ],
      "text/plain": [
       " 10       9       8        7        6        5        4        3       2      \n",
       "x   + 10⋅x  + 45⋅x  + 120⋅x  + 210⋅x  + 252⋅x  + 210⋅x  + 120⋅x  + 45⋅x  + 10⋅\n",
       "\n",
       "     \n",
       "x + 1"
      ]
     },
     "execution_count": 28,
     "metadata": {},
     "output_type": "execute_result"
    }
   ],
   "source": [
    "collect(((x+1)**10).expand(), X) # expandir y reordenar de acuerdo a la variable especificada"
   ]
  },
  {
   "cell_type": "code",
   "execution_count": 29,
   "metadata": {},
   "outputs": [
    {
     "ename": "SyntaxError",
     "evalue": "invalid syntax (3632314543.py, line 1)",
     "output_type": "error",
     "traceback": [
      "\u001b[0;36m  Input \u001b[0;32mIn [29]\u001b[0;36m\u001b[0m\n\u001b[0;31m    collect((x**2+5*x+x**3+3x**2+5*x(y+1)**2)).expand(), x)\u001b[0m\n\u001b[0m                            ^\u001b[0m\n\u001b[0;31mSyntaxError\u001b[0m\u001b[0;31m:\u001b[0m invalid syntax\n"
     ]
    }
   ],
   "source": [
    "collect((x**2+5*x+x**3+3x**2+5*x(y+1)**2)).expand(), x)"
   ]
  },
  {
   "cell_type": "code",
   "execution_count": 30,
   "metadata": {},
   "outputs": [
    {
     "ename": "SyntaxError",
     "evalue": "invalid syntax (3747134308.py, line 1)",
     "output_type": "error",
     "traceback": [
      "\u001b[0;36m  Input \u001b[0;32mIn [30]\u001b[0;36m\u001b[0m\n\u001b[0;31m    collect((x**2+5*x+x**3+3x**2+5*x(y+1)**2))\u001b[0m\n\u001b[0m                            ^\u001b[0m\n\u001b[0;31mSyntaxError\u001b[0m\u001b[0;31m:\u001b[0m invalid syntax\n"
     ]
    }
   ],
   "source": [
    "collect((x**2+5*x+x**3+3x**2+5*x(y+1)**2))"
   ]
  },
  {
   "cell_type": "code",
   "execution_count": 31,
   "metadata": {},
   "outputs": [
    {
     "ename": "TypeError",
     "evalue": "'Symbol' object is not callable",
     "output_type": "error",
     "traceback": [
      "\u001b[0;31m---------------------------------------------------------------------------\u001b[0m",
      "\u001b[0;31mTypeError\u001b[0m                                 Traceback (most recent call last)",
      "\u001b[1;32m/Users/macbookair/Documents/Universidad San Carlos/2022/Segundo semestre/Matematica basica 2/Untitled-1.ipynb Cell 32\u001b[0m in \u001b[0;36m<cell line: 1>\u001b[0;34m()\u001b[0m\n\u001b[0;32m----> <a href='vscode-notebook-cell:/Users/macbookair/Documents/Universidad%20San%20Carlos/2022/Segundo%20semestre/Matematica%20basica%202/Untitled-1.ipynb#X43sZmlsZQ%3D%3D?line=0'>1</a>\u001b[0m collect((x\u001b[39m*\u001b[39m\u001b[39m*\u001b[39m\u001b[39m2\u001b[39m\u001b[39m+\u001b[39m\u001b[39m5\u001b[39m\u001b[39m*\u001b[39mx\u001b[39m+\u001b[39mx\u001b[39m*\u001b[39m\u001b[39m*\u001b[39m\u001b[39m3\u001b[39m\u001b[39m+\u001b[39m\u001b[39m3\u001b[39m\u001b[39m*\u001b[39mx\u001b[39m*\u001b[39m\u001b[39m*\u001b[39m\u001b[39m2\u001b[39m\u001b[39m+\u001b[39m\u001b[39m5\u001b[39m\u001b[39m*\u001b[39mx(y\u001b[39m+\u001b[39;49m\u001b[39m1\u001b[39;49m)\u001b[39m*\u001b[39m\u001b[39m*\u001b[39m\u001b[39m2\u001b[39m)\u001b[39m.\u001b[39mexpand(), x)\n",
      "\u001b[0;31mTypeError\u001b[0m: 'Symbol' object is not callable"
     ]
    }
   ],
   "source": [
    "collect((x**2+5*x+x**3+3*x**2+5*x(y+1)**2).expand(), x)"
   ]
  },
  {
   "cell_type": "code",
   "execution_count": 32,
   "metadata": {},
   "outputs": [
    {
     "ename": "TypeError",
     "evalue": "'Symbol' object is not callable",
     "output_type": "error",
     "traceback": [
      "\u001b[0;31m---------------------------------------------------------------------------\u001b[0m",
      "\u001b[0;31mTypeError\u001b[0m                                 Traceback (most recent call last)",
      "\u001b[1;32m/Users/macbookair/Documents/Universidad San Carlos/2022/Segundo semestre/Matematica basica 2/Untitled-1.ipynb Cell 33\u001b[0m in \u001b[0;36m<cell line: 2>\u001b[0;34m()\u001b[0m\n\u001b[1;32m      <a href='vscode-notebook-cell:/Users/macbookair/Documents/Universidad%20San%20Carlos/2022/Segundo%20semestre/Matematica%20basica%202/Untitled-1.ipynb#X44sZmlsZQ%3D%3D?line=0'>1</a>\u001b[0m y \u001b[39m=\u001b[39m symbols(\u001b[39m\"\u001b[39m\u001b[39my\u001b[39m\u001b[39m\"\u001b[39m)\n\u001b[0;32m----> <a href='vscode-notebook-cell:/Users/macbookair/Documents/Universidad%20San%20Carlos/2022/Segundo%20semestre/Matematica%20basica%202/Untitled-1.ipynb#X44sZmlsZQ%3D%3D?line=1'>2</a>\u001b[0m collect((x\u001b[39m*\u001b[39m\u001b[39m*\u001b[39m\u001b[39m2\u001b[39m\u001b[39m+\u001b[39m\u001b[39m5\u001b[39m\u001b[39m*\u001b[39mx\u001b[39m+\u001b[39mx\u001b[39m*\u001b[39m\u001b[39m*\u001b[39m\u001b[39m3\u001b[39m\u001b[39m+\u001b[39m\u001b[39m3\u001b[39m\u001b[39m*\u001b[39mx\u001b[39m*\u001b[39m\u001b[39m*\u001b[39m\u001b[39m2\u001b[39m\u001b[39m+\u001b[39m\u001b[39m5\u001b[39m\u001b[39m*\u001b[39mx(y\u001b[39m+\u001b[39;49m\u001b[39m1\u001b[39;49m)\u001b[39m*\u001b[39m\u001b[39m*\u001b[39m\u001b[39m2\u001b[39m)\u001b[39m.\u001b[39mexpand(), x)\n",
      "\u001b[0;31mTypeError\u001b[0m: 'Symbol' object is not callable"
     ]
    }
   ],
   "source": [
    "y = symbols(\"y\")\n",
    "collect((x**2+5*x+x**3+3*x**2+5*x(y+1)**2).expand(), x)"
   ]
  },
  {
   "cell_type": "code",
   "execution_count": 33,
   "metadata": {},
   "outputs": [
    {
     "data": {
      "image/png": "[encoded data removed]",
      "text/latex": [
       "$\\displaystyle x^{3} + 4 x^{2} + x \\left(5 y^{2} + 10 y + 10\\right)$"
      ],
      "text/plain": [
       " 3      2     ⎛   2            ⎞\n",
       "x  + 4⋅x  + x⋅⎝5⋅y  + 10⋅y + 10⎠"
      ]
     },
     "execution_count": 33,
     "metadata": {},
     "output_type": "execute_result"
    }
   ],
   "source": [
    "collect((x**2+5*x+x**3+3*x**2+5*x*(y+1)**2).expand(), x)"
   ]
  },
  {
   "cell_type": "code",
   "execution_count": 34,
   "metadata": {},
   "outputs": [
    {
     "data": {
      "image/png": "[encoded data removed]",
      "text/latex": [
       "$\\displaystyle x^{3} + 4 x^{2} + 5 x y^{2} + 10 x y + 10 x$"
      ],
      "text/plain": [
       " 3      2        2                \n",
       "x  + 4⋅x  + 5⋅x⋅y  + 10⋅x⋅y + 10⋅x"
      ]
     },
     "execution_count": 34,
     "metadata": {},
     "output_type": "execute_result"
    }
   ],
   "source": [
    "collect((x**2+5*x+x**3+3*x**2+5*x*(y+1)**2).expand(), y)"
   ]
  },
  {
   "cell_type": "code",
   "execution_count": 35,
   "metadata": {},
   "outputs": [
    {
     "data": {
      "image/png": "[encoded data removed]",
      "text/latex": [
       "$\\displaystyle \\frac{2}{x + 3} - \\frac{1}{x + 2}$"
      ],
      "text/plain": [
       "  2       1  \n",
       "───── - ─────\n",
       "x + 3   x + 2"
      ]
     },
     "execution_count": 35,
     "metadata": {},
     "output_type": "execute_result"
    }
   ],
   "source": [
    "apart((x+1)/(x**2+5*x+6)) # Fracciones parciales"
   ]
  },
  {
   "cell_type": "code",
   "execution_count": 36,
   "metadata": {},
   "outputs": [
    {
     "data": {
      "image/png": "[encoded data removed]",
      "text/latex": [
       "$\\displaystyle \\frac{2}{x + 3} - \\frac{1}{x + 2}$"
      ],
      "text/plain": [
       "  2       1  \n",
       "───── - ─────\n",
       "x + 3   x + 2"
      ]
     },
     "execution_count": 36,
     "metadata": {},
     "output_type": "execute_result"
    }
   ],
   "source": [
    "_35"
   ]
  },
  {
   "cell_type": "code",
   "execution_count": 1,
   "metadata": {},
   "outputs": [
    {
     "ename": "NameError",
     "evalue": "name '_35' is not defined",
     "output_type": "error",
     "traceback": [
      "\u001b[0;31m---------------------------------------------------------------------------\u001b[0m",
      "\u001b[0;31mNameError\u001b[0m                                 Traceback (most recent call last)",
      "\u001b[1;32m/Users/macbookair/Documents/Universidad San Carlos/2022/Segundo semestre/Matematica basica 2/taller/Untitled-1.ipynb Cell 38\u001b[0m in \u001b[0;36m<cell line: 1>\u001b[0;34m()\u001b[0m\n\u001b[0;32m----> <a href='vscode-notebook-cell:/Users/macbookair/Documents/Universidad%20San%20Carlos/2022/Segundo%20semestre/Matematica%20basica%202/taller/Untitled-1.ipynb#X52sZmlsZQ%3D%3D?line=0'>1</a>\u001b[0m (_35)\u001b[39m.\u001b[39msubs(x, \u001b[39m5\u001b[39m)\n",
      "\u001b[0;31mNameError\u001b[0m: name '_35' is not defined"
     ]
    }
   ],
   "source": [
    "(_35).subs(x, 5)"
   ]
  },
  {
   "cell_type": "code",
   "execution_count": 2,
   "metadata": {},
   "outputs": [
    {
     "ename": "NameError",
     "evalue": "name '_35' is not defined",
     "output_type": "error",
     "traceback": [
      "\u001b[0;31m---------------------------------------------------------------------------\u001b[0m",
      "\u001b[0;31mNameError\u001b[0m                                 Traceback (most recent call last)",
      "\u001b[1;32m/Users/macbookair/Documents/Universidad San Carlos/2022/Segundo semestre/Matematica basica 2/taller/Untitled-1.ipynb Cell 39\u001b[0m in \u001b[0;36m<cell line: 1>\u001b[0;34m()\u001b[0m\n\u001b[0;32m----> <a href='vscode-notebook-cell:/Users/macbookair/Documents/Universidad%20San%20Carlos/2022/Segundo%20semestre/Matematica%20basica%202/taller/Untitled-1.ipynb#X53sZmlsZQ%3D%3D?line=0'>1</a>\u001b[0m (_35)\u001b[39m.\u001b[39msubs(x, \u001b[39m5\u001b[39m)\n",
      "\u001b[0;31mNameError\u001b[0m: name '_35' is not defined"
     ]
    }
   ],
   "source": [
    "(_35).subs(x, 5)"
   ]
  },
  {
   "cell_type": "code",
   "execution_count": 3,
   "metadata": {},
   "outputs": [
    {
     "ename": "NameError",
     "evalue": "name '_35' is not defined",
     "output_type": "error",
     "traceback": [
      "\u001b[0;31m---------------------------------------------------------------------------\u001b[0m",
      "\u001b[0;31mNameError\u001b[0m                                 Traceback (most recent call last)",
      "\u001b[1;32m/Users/macbookair/Documents/Universidad San Carlos/2022/Segundo semestre/Matematica basica 2/taller/Untitled-1.ipynb Cell 40\u001b[0m in \u001b[0;36m<cell line: 1>\u001b[0;34m()\u001b[0m\n\u001b[0;32m----> <a href='vscode-notebook-cell:/Users/macbookair/Documents/Universidad%20San%20Carlos/2022/Segundo%20semestre/Matematica%20basica%202/taller/Untitled-1.ipynb#X54sZmlsZQ%3D%3D?line=0'>1</a>\u001b[0m (_35)\n",
      "\u001b[0;31mNameError\u001b[0m: name '_35' is not defined"
     ]
    }
   ],
   "source": [
    "(_35)"
   ]
  },
  {
   "cell_type": "code",
   "execution_count": 4,
   "metadata": {},
   "outputs": [
    {
     "ename": "NameError",
     "evalue": "name '_35' is not defined",
     "output_type": "error",
     "traceback": [
      "\u001b[0;31m---------------------------------------------------------------------------\u001b[0m",
      "\u001b[0;31mNameError\u001b[0m                                 Traceback (most recent call last)",
      "\u001b[1;32m/Users/macbookair/Documents/Universidad San Carlos/2022/Segundo semestre/Matematica basica 2/taller/Untitled-1.ipynb Cell 41\u001b[0m in \u001b[0;36m<cell line: 1>\u001b[0;34m()\u001b[0m\n\u001b[0;32m----> <a href='vscode-notebook-cell:/Users/macbookair/Documents/Universidad%20San%20Carlos/2022/Segundo%20semestre/Matematica%20basica%202/taller/Untitled-1.ipynb#X55sZmlsZQ%3D%3D?line=0'>1</a>\u001b[0m _35\n",
      "\u001b[0;31mNameError\u001b[0m: name '_35' is not defined"
     ]
    }
   ],
   "source": [
    "_35"
   ]
  },
  {
   "cell_type": "code",
   "execution_count": 5,
   "metadata": {},
   "outputs": [
    {
     "ename": "NameError",
     "evalue": "name 'apart' is not defined",
     "output_type": "error",
     "traceback": [
      "\u001b[0;31m---------------------------------------------------------------------------\u001b[0m",
      "\u001b[0;31mNameError\u001b[0m                                 Traceback (most recent call last)",
      "\u001b[1;32m/Users/macbookair/Documents/Universidad San Carlos/2022/Segundo semestre/Matematica basica 2/taller/Untitled-1.ipynb Cell 42\u001b[0m in \u001b[0;36m<cell line: 1>\u001b[0;34m()\u001b[0m\n\u001b[0;32m----> <a href='vscode-notebook-cell:/Users/macbookair/Documents/Universidad%20San%20Carlos/2022/Segundo%20semestre/Matematica%20basica%202/taller/Untitled-1.ipynb#X56sZmlsZQ%3D%3D?line=0'>1</a>\u001b[0m apart((x\u001b[39m+\u001b[39m\u001b[39m1\u001b[39m)\u001b[39m/\u001b[39m(x\u001b[39m*\u001b[39m\u001b[39m*\u001b[39m\u001b[39m2\u001b[39m\u001b[39m+\u001b[39m\u001b[39m5\u001b[39m\u001b[39m*\u001b[39mx\u001b[39m+\u001b[39m\u001b[39m6\u001b[39m))\n",
      "\u001b[0;31mNameError\u001b[0m: name 'apart' is not defined"
     ]
    }
   ],
   "source": [
    "apart((x+1)/(x**2+5*x+6)) # Fracciones parciales"
   ]
  },
  {
   "cell_type": "code",
   "execution_count": 6,
   "metadata": {},
   "outputs": [],
   "source": [
    "from sympy import *"
   ]
  },
  {
   "cell_type": "code",
   "execution_count": 7,
   "metadata": {},
   "outputs": [],
   "source": [
    "init_printing()"
   ]
  },
  {
   "cell_type": "code",
   "execution_count": 8,
   "metadata": {},
   "outputs": [],
   "source": [
    "x,y = symbols(\"x y\")"
   ]
  },
  {
   "cell_type": "code",
   "execution_count": 9,
   "metadata": {},
   "outputs": [
    {
     "data": {
      "image/png": "[encoded data removed]",
      "text/latex": [
       "$\\displaystyle \\frac{2}{x + 3} - \\frac{1}{x + 2}$"
      ],
      "text/plain": [
       "  2       1  \n",
       "───── - ─────\n",
       "x + 3   x + 2"
      ]
     },
     "execution_count": 9,
     "metadata": {},
     "output_type": "execute_result"
    }
   ],
   "source": [
    "apart((x+1)/(x**2+5*x+6)) # Fracciones parciales"
   ]
  },
  {
   "cell_type": "code",
   "execution_count": 10,
   "metadata": {},
   "outputs": [
    {
     "data": {
      "image/png": "[encoded data removed]",
      "text/latex": [
       "$\\displaystyle \\frac{2}{x + 3} - \\frac{1}{x + 2}$"
      ],
      "text/plain": [
       "  2       1  \n",
       "───── - ─────\n",
       "x + 3   x + 2"
      ]
     },
     "execution_count": 10,
     "metadata": {},
     "output_type": "execute_result"
    }
   ],
   "source": [
    "(_9)"
   ]
  },
  {
   "cell_type": "code",
   "execution_count": 11,
   "metadata": {},
   "outputs": [
    {
     "data": {
      "image/png": "[encoded data removed]",
      "text/latex": [
       "$\\displaystyle \\frac{3}{28}$"
      ],
      "text/plain": [
       "3/28"
      ]
     },
     "execution_count": 11,
     "metadata": {},
     "output_type": "execute_result"
    }
   ],
   "source": [
    "(_9).subs(x, 5)"
   ]
  },
  {
   "cell_type": "code",
   "execution_count": 12,
   "metadata": {},
   "outputs": [
    {
     "data": {
      "image/png": "[encoded data removed]",
      "text/latex": [
       "$\\displaystyle \\frac{2}{x + 3} - \\frac{1}{x + 2}$"
      ],
      "text/plain": [
       "  2       1  \n",
       "───── - ─────\n",
       "x + 3   x + 2"
      ]
     },
     "execution_count": 12,
     "metadata": {},
     "output_type": "execute_result"
    }
   ],
   "source": [
    "(_9).subs((x,5), (y,3))"
   ]
  },
  {
   "cell_type": "code",
   "execution_count": 13,
   "metadata": {},
   "outputs": [
    {
     "ename": "NameError",
     "evalue": "name 'X' is not defined",
     "output_type": "error",
     "traceback": [
      "\u001b[0;31m---------------------------------------------------------------------------\u001b[0m",
      "\u001b[0;31mNameError\u001b[0m                                 Traceback (most recent call last)",
      "\u001b[1;32m/Users/macbookair/Documents/Universidad San Carlos/2022/Segundo semestre/Matematica basica 2/taller/Untitled-1.ipynb Cell 50\u001b[0m in \u001b[0;36m<cell line: 1>\u001b[0;34m()\u001b[0m\n\u001b[0;32m----> <a href='vscode-notebook-cell:/Users/macbookair/Documents/Universidad%20San%20Carlos/2022/Segundo%20semestre/Matematica%20basica%202/taller/Untitled-1.ipynb#Y100sZmlsZQ%3D%3D?line=0'>1</a>\u001b[0m collect((x\u001b[39m*\u001b[39m\u001b[39m*\u001b[39m\u001b[39m2\u001b[39m\u001b[39m+\u001b[39m\u001b[39m5\u001b[39m\u001b[39m*\u001b[39mx\u001b[39m+\u001b[39mx\u001b[39m*\u001b[39m\u001b[39m*\u001b[39m\u001b[39m3\u001b[39m\u001b[39m+\u001b[39m\u001b[39m3\u001b[39m\u001b[39m*\u001b[39mx\u001b[39m*\u001b[39m\u001b[39m*\u001b[39m\u001b[39m2\u001b[39m\u001b[39m+\u001b[39m\u001b[39m5\u001b[39m\u001b[39m*\u001b[39mx\u001b[39m*\u001b[39m(y\u001b[39m+\u001b[39m\u001b[39m1\u001b[39m)\u001b[39m*\u001b[39m\u001b[39m*\u001b[39m\u001b[39m2\u001b[39m)\u001b[39m.\u001b[39mexpand(), X)\n",
      "\u001b[0;31mNameError\u001b[0m: name 'X' is not defined"
     ]
    }
   ],
   "source": [
    "collect((x**2+5*x+x**3+3*x**2+5*x*(y+1)**2).expand(), X)"
   ]
  },
  {
   "cell_type": "code",
   "execution_count": 14,
   "metadata": {},
   "outputs": [
    {
     "data": {
      "image/png": "[encoded data removed]",
      "text/latex": [
       "$\\displaystyle x^{3} + 4 x^{2} + x \\left(5 y^{2} + 10 y + 10\\right)$"
      ],
      "text/plain": [
       " 3      2     ⎛   2            ⎞\n",
       "x  + 4⋅x  + x⋅⎝5⋅y  + 10⋅y + 10⎠"
      ]
     },
     "execution_count": 14,
     "metadata": {},
     "output_type": "execute_result"
    }
   ],
   "source": [
    "collect((x**2+5*x+x**3+3*x**2+5*x*(y+1)**2).expand(), x)"
   ]
  },
  {
   "cell_type": "code",
   "execution_count": 15,
   "metadata": {},
   "outputs": [
    {
     "data": {
      "image/png": "[encoded data removed]",
      "text/latex": [
       "$\\displaystyle x^{3} + 4 x^{2} + 5 x y^{2} + 10 x y + 10 x$"
      ],
      "text/plain": [
       " 3      2        2                \n",
       "x  + 4⋅x  + 5⋅x⋅y  + 10⋅x⋅y + 10⋅x"
      ]
     },
     "execution_count": 15,
     "metadata": {},
     "output_type": "execute_result"
    }
   ],
   "source": [
    "collect((x**2+5*x+x**3+3*x**2+5*x*(y+1)**2).expand(), y)"
   ]
  },
  {
   "cell_type": "code",
   "execution_count": 16,
   "metadata": {},
   "outputs": [],
   "source": [
    "expr = (_15)"
   ]
  },
  {
   "cell_type": "code",
   "execution_count": 17,
   "metadata": {},
   "outputs": [
    {
     "data": {
      "image/png": "[encoded data removed]",
      "text/latex": [
       "$\\displaystyle x^{3} + 4 x^{2} + 5 x y^{2} + 10 x y + 10 x$"
      ],
      "text/plain": [
       " 3      2        2                \n",
       "x  + 4⋅x  + 5⋅x⋅y  + 10⋅x⋅y + 10⋅x"
      ]
     },
     "execution_count": 17,
     "metadata": {},
     "output_type": "execute_result"
    }
   ],
   "source": [
    "expr.subs({x:5}, {y:3})"
   ]
  },
  {
   "cell_type": "code",
   "execution_count": 18,
   "metadata": {},
   "outputs": [
    {
     "data": {
      "image/png": "[encoded data removed]",
      "text/latex": [
       "$\\displaystyle 650$"
      ],
      "text/plain": [
       "650"
      ]
     },
     "execution_count": 18,
     "metadata": {},
     "output_type": "execute_result"
    }
   ],
   "source": [
    "expr.subs({x:5, y:3})"
   ]
  },
  {
   "cell_type": "code",
   "execution_count": 19,
   "metadata": {},
   "outputs": [
    {
     "data": {
      "image/png": "[encoded data removed]",
      "text/latex": [
       "$\\displaystyle \\left(x - 1\\right)^{6} + 9 \\left(x - 1\\right)^{4} + 10 \\left(x - 1\\right)^{3} + 10 \\left(x - 1\\right)^{2}$"
      ],
      "text/plain": [
       "       6            4             3             2\n",
       "(x - 1)  + 9⋅(x - 1)  + 10⋅(x - 1)  + 10⋅(x - 1) "
      ]
     },
     "execution_count": 19,
     "metadata": {},
     "output_type": "execute_result"
    }
   ],
   "source": [
    "expr.subs({x: y**2, y:x-1}) # sustitucion de expresiones"
   ]
  },
  {
   "cell_type": "code",
   "execution_count": 20,
   "metadata": {},
   "outputs": [
    {
     "data": {
      "image/png": "[encoded data removed]",
      "text/latex": [
       "$\\displaystyle x^{3} + 4 x^{2} + 5 x y^{2} + 10 x y + 10 x$"
      ],
      "text/plain": [
       " 3      2        2                \n",
       "x  + 4⋅x  + 5⋅x⋅y  + 10⋅x⋅y + 10⋅x"
      ]
     },
     "execution_count": 20,
     "metadata": {},
     "output_type": "execute_result"
    }
   ],
   "source": [
    "expr.subs({x: 3, y:2}, {x: y-5, y: x**3}) # sustituciones sucesivas"
   ]
  },
  {
   "cell_type": "code",
   "execution_count": 21,
   "metadata": {},
   "outputs": [
    {
     "ename": "KeyError",
     "evalue": "0",
     "output_type": "error",
     "traceback": [
      "\u001b[0;31m---------------------------------------------------------------------------\u001b[0m",
      "\u001b[0;31mKeyError\u001b[0m                                  Traceback (most recent call last)",
      "\u001b[1;32m/Users/macbookair/Documents/Universidad San Carlos/2022/Segundo semestre/Matematica basica 2/taller/Untitled-1.ipynb Cell 58\u001b[0m in \u001b[0;36m<cell line: 1>\u001b[0;34m()\u001b[0m\n\u001b[0;32m----> <a href='vscode-notebook-cell:/Users/macbookair/Documents/Universidad%20San%20Carlos/2022/Segundo%20semestre/Matematica%20basica%202/taller/Untitled-1.ipynb#Y111sZmlsZQ%3D%3D?line=0'>1</a>\u001b[0m expr\u001b[39m.\u001b[39;49msubs([{x: \u001b[39m3\u001b[39;49m, y:\u001b[39m2\u001b[39;49m}, {x: y\u001b[39m-\u001b[39;49m\u001b[39m5\u001b[39;49m, y: x\u001b[39m*\u001b[39;49m\u001b[39m*\u001b[39;49m\u001b[39m3\u001b[39;49m}])\n",
      "File \u001b[0;32m~/opt/anaconda3/lib/python3.9/site-packages/sympy/core/basic.py:933\u001b[0m, in \u001b[0;36mBasic.subs\u001b[0;34m(self, *args, **kwargs)\u001b[0m\n\u001b[1;32m    931\u001b[0m sequence \u001b[39m=\u001b[39m \u001b[39mlist\u001b[39m(sequence)\n\u001b[1;32m    932\u001b[0m \u001b[39mfor\u001b[39;00m i, s \u001b[39min\u001b[39;00m \u001b[39menumerate\u001b[39m(sequence):\n\u001b[0;32m--> 933\u001b[0m     \u001b[39mif\u001b[39;00m \u001b[39misinstance\u001b[39m(s[\u001b[39m0\u001b[39;49m], \u001b[39mstr\u001b[39m):\n\u001b[1;32m    934\u001b[0m         \u001b[39m# when old is a string we prefer Symbol\u001b[39;00m\n\u001b[1;32m    935\u001b[0m         s \u001b[39m=\u001b[39m Symbol(s[\u001b[39m0\u001b[39m]), s[\u001b[39m1\u001b[39m]\n\u001b[1;32m    936\u001b[0m     \u001b[39mtry\u001b[39;00m:\n",
      "\u001b[0;31mKeyError\u001b[0m: 0"
     ]
    }
   ],
   "source": [
    "expr.subs([{x: 3, y:2}, {x: y-5, y: x**3}]) # sustituciones sucesivas"
   ]
  },
  {
   "cell_type": "code",
   "execution_count": 22,
   "metadata": {},
   "outputs": [
    {
     "data": {
      "image/png": "[encoded data removed]",
      "text/latex": [
       "$\\displaystyle 3275$"
      ],
      "text/plain": [
       "3275"
      ]
     },
     "execution_count": 22,
     "metadata": {},
     "output_type": "execute_result"
    }
   ],
   "source": [
    "expr.subs(x, y-5).subs(y, 10)"
   ]
  },
  {
   "cell_type": "code",
   "execution_count": 23,
   "metadata": {},
   "outputs": [],
   "source": [
    "# Ecuaciones"
   ]
  },
  {
   "cell_type": "code",
   "execution_count": 25,
   "metadata": {},
   "outputs": [
    {
     "data": {
      "image/png": "[encoded data removed]",
      "text/latex": [
       "$\\displaystyle \\left[ -3, \\  -2\\right]$"
      ],
      "text/plain": [
       "[-3, -2]"
      ]
     },
     "execution_count": 25,
     "metadata": {},
     "output_type": "execute_result"
    }
   ],
   "source": [
    "solve(x**2+5*x+6) # resolver ecuaciones"
   ]
  },
  {
   "cell_type": "code",
   "execution_count": 26,
   "metadata": {},
   "outputs": [
    {
     "data": {
      "image/png": "[encoded data removed]",
      "text/latex": [
       "$\\displaystyle \\left\\{ x : \\frac{1}{2}, \\  y : \\frac{1}{2}\\right\\}$"
      ],
      "text/plain": [
       "{x: 1/2, y: 1/2}"
      ]
     },
     "execution_count": 26,
     "metadata": {},
     "output_type": "execute_result"
    }
   ],
   "source": [
    "solve([x+y-1, x-y]) # resolver sistemas de ecuaciones: x+y = 1; x-y = 0"
   ]
  },
  {
   "cell_type": "code",
   "execution_count": 27,
   "metadata": {},
   "outputs": [
    {
     "data": {
      "image/png": "[encoded data removed]",
      "text/latex": [
       "$\\displaystyle x^{3} + 4 x^{2} + 5 x y^{2} + 10 x y + 10 x$"
      ],
      "text/plain": [
       " 3      2        2                \n",
       "x  + 4⋅x  + 5⋅x⋅y  + 10⋅x⋅y + 10⋅x"
      ]
     },
     "execution_count": 27,
     "metadata": {},
     "output_type": "execute_result"
    }
   ],
   "source": [
    "expr.subs([{x: 3, y:2}, {x: y-5, y: x**3}], [x, y]) # sustituciones sucesivas"
   ]
  },
  {
   "cell_type": "code",
   "execution_count": 28,
   "metadata": {},
   "outputs": [
    {
     "ename": "KeyError",
     "evalue": "0",
     "output_type": "error",
     "traceback": [
      "\u001b[0;31m---------------------------------------------------------------------------\u001b[0m",
      "\u001b[0;31mKeyError\u001b[0m                                  Traceback (most recent call last)",
      "\u001b[1;32m/Users/macbookair/Documents/Universidad San Carlos/2022/Segundo semestre/Matematica basica 2/taller/Untitled-1.ipynb Cell 64\u001b[0m in \u001b[0;36m<cell line: 1>\u001b[0;34m()\u001b[0m\n\u001b[0;32m----> <a href='vscode-notebook-cell:/Users/macbookair/Documents/Universidad%20San%20Carlos/2022/Segundo%20semestre/Matematica%20basica%202/taller/Untitled-1.ipynb#Y120sZmlsZQ%3D%3D?line=0'>1</a>\u001b[0m expr\u001b[39m.\u001b[39;49msubs([{x: \u001b[39m3\u001b[39;49m, y:\u001b[39m2\u001b[39;49m}, {x: y\u001b[39m-\u001b[39;49m\u001b[39m5\u001b[39;49m, y: x\u001b[39m*\u001b[39;49m\u001b[39m*\u001b[39;49m\u001b[39m3\u001b[39;49m}, [x, y]])\n",
      "File \u001b[0;32m~/opt/anaconda3/lib/python3.9/site-packages/sympy/core/basic.py:933\u001b[0m, in \u001b[0;36mBasic.subs\u001b[0;34m(self, *args, **kwargs)\u001b[0m\n\u001b[1;32m    931\u001b[0m sequence \u001b[39m=\u001b[39m \u001b[39mlist\u001b[39m(sequence)\n\u001b[1;32m    932\u001b[0m \u001b[39mfor\u001b[39;00m i, s \u001b[39min\u001b[39;00m \u001b[39menumerate\u001b[39m(sequence):\n\u001b[0;32m--> 933\u001b[0m     \u001b[39mif\u001b[39;00m \u001b[39misinstance\u001b[39m(s[\u001b[39m0\u001b[39;49m], \u001b[39mstr\u001b[39m):\n\u001b[1;32m    934\u001b[0m         \u001b[39m# when old is a string we prefer Symbol\u001b[39;00m\n\u001b[1;32m    935\u001b[0m         s \u001b[39m=\u001b[39m Symbol(s[\u001b[39m0\u001b[39m]), s[\u001b[39m1\u001b[39m]\n\u001b[1;32m    936\u001b[0m     \u001b[39mtry\u001b[39;00m:\n",
      "\u001b[0;31mKeyError\u001b[0m: 0"
     ]
    }
   ],
   "source": [
    "expr.subs([{x: 3, y:2}, {x: y-5, y: x**3}, [x, y]]) # sustituciones sucesivas"
   ]
  },
  {
   "cell_type": "code",
   "execution_count": 29,
   "metadata": {},
   "outputs": [
    {
     "data": {
      "image/png": "[encoded data removed]",
      "text/latex": [
       "$\\displaystyle \\left\\{ x : \\frac{1}{2}, \\  y : \\frac{1}{2}\\right\\}$"
      ],
      "text/plain": [
       "{x: 1/2, y: 1/2}"
      ]
     },
     "execution_count": 29,
     "metadata": {},
     "output_type": "execute_result"
    }
   ],
   "source": [
    "solve([x+y-1, x-y], [x,y]) # resolver sistemas de ecuaciones: x+y = 1; x-y = 0"
   ]
  },
  {
   "cell_type": "code",
   "execution_count": 30,
   "metadata": {},
   "outputs": [
    {
     "data": {
      "image/png": "[encoded data removed]",
      "text/latex": [
       "$\\displaystyle \\frac{1}{r} = \\frac{1}{r_{2}} + \\frac{1}{r_{1}}$"
      ],
      "text/plain": [
       "1   1    1 \n",
       "─ = ── + ──\n",
       "r   r₂   r₁"
      ]
     },
     "execution_count": 30,
     "metadata": {},
     "output_type": "execute_result"
    }
   ],
   "source": [
    "r,r_1,r_2 = symbols(\"r r_1 r_2\")\n",
    "Eq(1/r, 1/r_1+1/r_2) "
   ]
  },
  {
   "cell_type": "code",
   "execution_count": 31,
   "metadata": {},
   "outputs": [
    {
     "data": {
      "image/png": "[encoded data removed]",
      "text/latex": [
       "$\\displaystyle \\left[ - \\frac{r r_{1}}{r - r_{1}}\\right]$"
      ],
      "text/plain": [
       "⎡-r⋅r₁ ⎤\n",
       "⎢──────⎥\n",
       "⎣r - r₁⎦"
      ]
     },
     "execution_count": 31,
     "metadata": {},
     "output_type": "execute_result"
    }
   ],
   "source": [
    "ec = Eq(1/r, 1/r_1+1/r_2) \n",
    "solve(ec, r_2) # Despejar expresion resistencias en circuito 1/r=1/r1+1/r2"
   ]
  },
  {
   "cell_type": "code",
   "execution_count": 32,
   "metadata": {},
   "outputs": [],
   "source": [
    "## Calculo de limites, derivadas, sumatorias y derivadas"
   ]
  },
  {
   "cell_type": "code",
   "execution_count": 33,
   "metadata": {},
   "outputs": [],
   "source": [
    "### Limites"
   ]
  },
  {
   "cell_type": "code",
   "execution_count": 34,
   "metadata": {},
   "outputs": [
    {
     "data": {
      "image/png": "[encoded data removed]",
      "text/latex": [
       "$\\displaystyle 1$"
      ],
      "text/plain": [
       "1"
      ]
     },
     "execution_count": 34,
     "metadata": {},
     "output_type": "execute_result"
    }
   ],
   "source": [
    "limit(sin(x)/x, x, 0)"
   ]
  },
  {
   "cell_type": "code",
   "execution_count": 1,
   "metadata": {},
   "outputs": [
    {
     "ename": "NameError",
     "evalue": "name 'limit' is not defined",
     "output_type": "error",
     "traceback": [
      "\u001b[0;31m---------------------------------------------------------------------------\u001b[0m",
      "\u001b[0;31mNameError\u001b[0m                                 Traceback (most recent call last)",
      "\u001b[1;32m/Users/macbookair/Documents/Universidad San Carlos/2022/Segundo semestre/Matematica basica 2/taller/taller-2.ipynb Cell 71\u001b[0m in \u001b[0;36m<cell line: 1>\u001b[0;34m()\u001b[0m\n\u001b[0;32m----> <a href='vscode-notebook-cell:/Users/macbookair/Documents/Universidad%20San%20Carlos/2022/Segundo%20semestre/Matematica%20basica%202/taller/taller-2.ipynb#Y130sZmlsZQ%3D%3D?line=0'>1</a>\u001b[0m limit(\u001b[39m3\u001b[39m\u001b[39m*\u001b[39mx\u001b[39m*\u001b[39m\u001b[39m*\u001b[39m\u001b[39m2\u001b[39m\u001b[39m+\u001b[39m\u001b[39m5\u001b[39m\u001b[39m*\u001b[39mx\u001b[39m+\u001b[39m\u001b[39m6\u001b[39m\u001b[39m/\u001b[39m(\u001b[39m7\u001b[39m\u001b[39m*\u001b[39mx\u001b[39m*\u001b[39m\u001b[39m*\u001b[39m\u001b[39m2\u001b[39m\u001b[39m+\u001b[39m\u001b[39m8\u001b[39m\u001b[39m*\u001b[39mx\u001b[39m-\u001b[39m\u001b[39m3\u001b[39m), x, oo)\n",
      "\u001b[0;31mNameError\u001b[0m: name 'limit' is not defined"
     ]
    }
   ],
   "source": [
    "limit(3*x**2+5*x+6/(7*x**2+8*x-3), x, oo) # limite al infinito"
   ]
  },
  {
   "cell_type": "code",
   "execution_count": 2,
   "metadata": {},
   "outputs": [],
   "source": [
    "from sympy import *\n",
    "init_printing()"
   ]
  },
  {
   "cell_type": "code",
   "execution_count": 3,
   "metadata": {},
   "outputs": [],
   "source": [
    "x,y = symbols(\"x y\")"
   ]
  },
  {
   "cell_type": "code",
   "execution_count": 4,
   "metadata": {},
   "outputs": [
    {
     "data": {
      "image/png": "[encoded data removed]",
      "text/latex": [
       "$\\displaystyle \\infty$"
      ],
      "text/plain": [
       "∞"
      ]
     },
     "execution_count": 4,
     "metadata": {},
     "output_type": "execute_result"
    }
   ],
   "source": [
    "limit(3*x**2+5*x+6/(7*x**2+8*x-3), x, oo) # limite al infinito"
   ]
  },
  {
   "cell_type": "code",
   "execution_count": 5,
   "metadata": {},
   "outputs": [
    {
     "data": {
      "image/png": "[encoded data removed]",
      "text/latex": [
       "$\\displaystyle \\infty$"
      ],
      "text/plain": [
       "∞"
      ]
     },
     "execution_count": 5,
     "metadata": {},
     "output_type": "execute_result"
    }
   ],
   "source": [
    "limit(1/x,x,0)"
   ]
  },
  {
   "cell_type": "code",
   "execution_count": null,
   "metadata": {},
   "outputs": [],
   "source": []
  }
 ],
 "metadata": {
  "kernelspec": {
   "display_name": "Python 3.9.12 ('base')",
   "language": "python",
   "name": "python3"
  },
  "language_info": {
   "codemirror_mode": {
    "name": "ipython",
    "version": 3
   },
   "file_extension": ".py",
   "mimetype": "text/x-python",
   "name": "python",
   "nbconvert_exporter": "python",
   "pygments_lexer": "ipython3",
   "version": "3.9.12"
  },
  "orig_nbformat": 4,
  "vscode": {
   "interpreter": {
    "hash": "29b762e6ebb16630dc180eb4a7876cc2a2c9b1bf58b2cade60381b48a6cb6e19"
   }
  }
 },
 "nbformat": 4,
 "nbformat_minor": 2
}
