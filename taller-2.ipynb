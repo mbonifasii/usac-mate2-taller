{
 "cells": [
  {
   "cell_type": "code",
   "execution_count": 1,
   "metadata": {},
   "outputs": [
    {
     "name": "stdout",
     "output_type": "stream",
     "text": [
      "Hello world\n"
     ]
    }
   ],
   "source": [
    "print(\"Hello world\")"
   ]
  },
  {
   "cell_type": "code",
   "execution_count": 2,
   "metadata": {},
   "outputs": [
    {
     "name": "stdout",
     "output_type": "stream",
     "text": [
      "Hello world from VScode and jupyter\n"
     ]
    }
   ],
   "source": [
    "msg = \"Hello world from VScode and jupyter\"\n",
    "print(msg)"
   ]
  },
  {
   "cell_type": "code",
   "execution_count": 1,
   "metadata": {},
   "outputs": [],
   "source": [
    "from sympy import *"
   ]
  },
  {
   "cell_type": "code",
   "execution_count": 2,
   "metadata": {},
   "outputs": [],
   "source": [
    "init_printing()"
   ]
  },
  {
   "cell_type": "code",
   "execution_count": 3,
   "metadata": {},
   "outputs": [],
   "source": [
    "x = symbols(\"x\")"
   ]
  },
  {
   "cell_type": "code",
   "execution_count": 4,
   "metadata": {},
   "outputs": [
    {
     "name": "stdout",
     "output_type": "stream",
     "text": [
      "x**64\n"
     ]
    }
   ],
   "source": [
    "from re import X\n",
    "\n",
    "\n",
    "print(x**X)"
   ]
  },
  {
   "cell_type": "code",
   "execution_count": 5,
   "metadata": {},
   "outputs": [],
   "source": [
    "x,y = symbols(\"x y\")"
   ]
  },
  {
   "cell_type": "code",
   "execution_count": 6,
   "metadata": {},
   "outputs": [],
   "source": [
    "a = symbols(\"alpha\")"
   ]
  },
  {
   "cell_type": "code",
   "execution_count": 7,
   "metadata": {},
   "outputs": [
    {
     "name": "stdout",
     "output_type": "stream",
     "text": [
      "alpha\n"
     ]
    }
   ],
   "source": [
    "print(a)"
   ]
  },
  {
   "cell_type": "code",
   "execution_count": 8,
   "metadata": {},
   "outputs": [
    {
     "data": {
      "image/png": "[encoded data removed]",
      "text/latex": [
       "$\\displaystyle \\alpha x y$"
      ],
      "text/plain": [
       "α⋅x⋅y"
      ]
     },
     "execution_count": 8,
     "metadata": {},
     "output_type": "execute_result"
    }
   ],
   "source": [
    "x*y*a"
   ]
  },
  {
   "cell_type": "code",
   "execution_count": 9,
   "metadata": {},
   "outputs": [],
   "source": [
    "x1 = symbols(\"x_1\")"
   ]
  },
  {
   "cell_type": "code",
   "execution_count": 10,
   "metadata": {},
   "outputs": [
    {
     "data": {
      "image/png": "[encoded data removed]",
      "text/latex": [
       "$\\displaystyle 2 x_{1}$"
      ],
      "text/plain": [
       "2⋅x₁"
      ]
     },
     "execution_count": 10,
     "metadata": {},
     "output_type": "execute_result"
    }
   ],
   "source": [
    "x1*2"
   ]
  },
  {
   "cell_type": "code",
   "execution_count": 11,
   "metadata": {},
   "outputs": [],
   "source": [
    "x = symbols(\"x_1:5\")"
   ]
  },
  {
   "cell_type": "code",
   "execution_count": 12,
   "metadata": {},
   "outputs": [
    {
     "data": {
      "image/png": "[encoded data removed]",
      "text/latex": [
       "$\\displaystyle \\left( x_{1}, \\  x_{2}, \\  x_{3}, \\  x_{4}\\right)$"
      ],
      "text/plain": [
       "(x₁, x₂, x₃, x₄)"
      ]
     },
     "execution_count": 12,
     "metadata": {},
     "output_type": "execute_result"
    }
   ],
   "source": [
    "x"
   ]
  },
  {
   "cell_type": "code",
   "execution_count": 13,
   "metadata": {},
   "outputs": [],
   "source": [
    "x1,x2,x3,x4,x5 = symbols(\"x_1:6\")"
   ]
  },
  {
   "cell_type": "code",
   "execution_count": 14,
   "metadata": {},
   "outputs": [
    {
     "data": {
      "image/png": "[encoded data removed]",
      "text/latex": [
       "$\\displaystyle x_{3}$"
      ],
      "text/plain": [
       "x₃"
      ]
     },
     "execution_count": 14,
     "metadata": {},
     "output_type": "execute_result"
    }
   ],
   "source": [
    "x3"
   ]
  },
  {
   "cell_type": "code",
   "execution_count": 15,
   "metadata": {},
   "outputs": [],
   "source": [
    "n = symbols(\"n\",integer=True, positive=True)"
   ]
  },
  {
   "cell_type": "code",
   "execution_count": 16,
   "metadata": {},
   "outputs": [
    {
     "data": {
      "image/png": "[encoded data removed]",
      "text/latex": [
       "$\\displaystyle \\left(-1\\right)^{n}$"
      ],
      "text/plain": [
       "    n\n",
       "(-1) "
      ]
     },
     "execution_count": 16,
     "metadata": {},
     "output_type": "execute_result"
    }
   ],
   "source": [
    "simplify(cos(n*pi))"
   ]
  },
  {
   "cell_type": "code",
   "execution_count": 17,
   "metadata": {},
   "outputs": [
    {
     "data": {
      "text/plain": [
       "{'integer': True,\n",
       " 'real': True,\n",
       " 'rational': True,\n",
       " 'complex': True,\n",
       " 'algebraic': True,\n",
       " 'irrational': False,\n",
       " 'noninteger': False,\n",
       " 'imaginary': False,\n",
       " 'hermitian': True,\n",
       " 'transcendental': False,\n",
       " 'infinite': False,\n",
       " 'commutative': True,\n",
       " 'finite': True,\n",
       " 'extended_real': True,\n",
       " 'positive': True,\n",
       " 'nonzero': True,\n",
       " 'extended_negative': False,\n",
       " 'nonnegative': True,\n",
       " 'extended_positive': True,\n",
       " 'extended_nonnegative': True,\n",
       " 'extended_nonpositive': False,\n",
       " 'nonpositive': False,\n",
       " 'zero': False,\n",
       " 'negative': False,\n",
       " 'extended_nonzero': True}"
      ]
     },
     "execution_count": 17,
     "metadata": {},
     "output_type": "execute_result"
    }
   ],
   "source": [
    "n.assumptions0"
   ]
  },
  {
   "cell_type": "code",
   "execution_count": 18,
   "metadata": {},
   "outputs": [],
   "source": [
    "## Simplificacion algebraica"
   ]
  },
  {
   "cell_type": "code",
   "execution_count": 19,
   "metadata": {},
   "outputs": [],
   "source": [
    "### Factorizar, simplificar, reunir expresiones, fracciones parciales"
   ]
  },
  {
   "cell_type": "code",
   "execution_count": 20,
   "metadata": {},
   "outputs": [
    {
     "name": "stdout",
     "output_type": "stream",
     "text": [
      "8\n"
     ]
    }
   ],
   "source": [
    "print(2**3)"
   ]
  },
  {
   "cell_type": "code",
   "execution_count": 21,
   "metadata": {},
   "outputs": [],
   "source": [
    "x = symbols(\"x\")"
   ]
  },
  {
   "cell_type": "code",
   "execution_count": 22,
   "metadata": {},
   "outputs": [
    {
     "data": {
      "image/png": "[encoded data removed]",
      "text/latex": [
       "$\\displaystyle \\left(x + 2\\right) \\left(x + 3\\right)$"
      ],
      "text/plain": [
       "(x + 2)⋅(x + 3)"
      ]
     },
     "execution_count": 22,
     "metadata": {},
     "output_type": "execute_result"
    }
   ],
   "source": [
    "factor(x**2+5*x+6)"
   ]
  },
  {
   "cell_type": "code",
   "execution_count": 23,
   "metadata": {},
   "outputs": [
    {
     "data": {
      "image/png": "[encoded data removed]",
      "text/latex": [
       "$\\displaystyle x^{5} + 5 x^{4} + 10 x^{3} + 10 x^{2} + 5 x + 1$"
      ],
      "text/plain": [
       " 5      4       3       2          \n",
       "x  + 5⋅x  + 10⋅x  + 10⋅x  + 5⋅x + 1"
      ]
     },
     "execution_count": 23,
     "metadata": {},
     "output_type": "execute_result"
    }
   ],
   "source": [
    "expand((x+1)**5) # desarrollar una expresion"
   ]
  },
  {
   "cell_type": "code",
   "execution_count": 24,
   "metadata": {},
   "outputs": [
    {
     "ename": "TypeError",
     "evalue": "'Add' object is not callable",
     "output_type": "error",
     "traceback": [
      "\u001b[0;31m---------------------------------------------------------------------------\u001b[0m",
      "\u001b[0;31mTypeError\u001b[0m                                 Traceback (most recent call last)",
      "\u001b[1;32m/Users/macbookair/Documents/Universidad San Carlos/2022/Segundo semestre/Matematica basica 2/Untitled-1.ipynb Cell 26\u001b[0m in \u001b[0;36m<cell line: 1>\u001b[0;34m()\u001b[0m\n\u001b[0;32m----> <a href='vscode-notebook-cell:/Users/macbookair/Documents/Universidad%20San%20Carlos/2022/Segundo%20semestre/Matematica%20basica%202/Untitled-1.ipynb#X34sZmlsZQ%3D%3D?line=0'>1</a>\u001b[0m expand((x\u001b[39m+\u001b[39;49m\u001b[39m2\u001b[39;49m)(x\u001b[39m+\u001b[39;49m\u001b[39m3\u001b[39;49m))\n",
      "\u001b[0;31mTypeError\u001b[0m: 'Add' object is not callable"
     ]
    }
   ],
   "source": [
    "expand((x+2)(x+3))"
   ]
  },
  {
   "cell_type": "code",
   "execution_count": 25,
   "metadata": {},
   "outputs": [
    {
     "data": {
      "image/png": "[encoded data removed]",
      "text/latex": [
       "$\\displaystyle 1$"
      ],
      "text/plain": [
       "1"
      ]
     },
     "execution_count": 25,
     "metadata": {},
     "output_type": "execute_result"
    }
   ],
   "source": [
    "simplify(cos(x)**2+sin(x)**2)"
   ]
  },
  {
   "cell_type": "code",
   "execution_count": 26,
   "metadata": {},
   "outputs": [
    {
     "data": {
      "image/png": "[encoded data removed]",
      "text/latex": [
       "$\\displaystyle 1$"
      ],
      "text/plain": [
       "1"
      ]
     },
     "execution_count": 26,
     "metadata": {},
     "output_type": "execute_result"
    }
   ],
   "source": [
    "(cos(x)**2+sin(x)**2).simplify()"
   ]
  },
  {
   "cell_type": "code",
   "execution_count": 28,
   "metadata": {},
   "outputs": [
    {
     "data": {
      "image/png": "[encoded data removed]",
      "text/latex": [
       "$\\displaystyle x^{10} + 10 x^{9} + 45 x^{8} + 120 x^{7} + 210 x^{6} + 252 x^{5} + 210 x^{4} + 120 x^{3} + 45 x^{2} + 10 x + 1$"
      ],
      "text/plain": [
       " 10       9       8        7        6        5        4        3       2      \n",
       "x   + 10⋅x  + 45⋅x  + 120⋅x  + 210⋅x  + 252⋅x  + 210⋅x  + 120⋅x  + 45⋅x  + 10⋅\n",
       "\n",
       "     \n",
       "x + 1"
      ]
     },
     "execution_count": 28,
     "metadata": {},
     "output_type": "execute_result"
    }
   ],
   "source": [
    "collect(((x+1)**10).expand(), X) # expandir y reordenar de acuerdo a la variable especificada"
   ]
  },
  {
   "cell_type": "code",
   "execution_count": 29,
   "metadata": {},
   "outputs": [
    {
     "ename": "SyntaxError",
     "evalue": "invalid syntax (3632314543.py, line 1)",
     "output_type": "error",
     "traceback": [
      "\u001b[0;36m  Input \u001b[0;32mIn [29]\u001b[0;36m\u001b[0m\n\u001b[0;31m    collect((x**2+5*x+x**3+3x**2+5*x(y+1)**2)).expand(), x)\u001b[0m\n\u001b[0m                            ^\u001b[0m\n\u001b[0;31mSyntaxError\u001b[0m\u001b[0;31m:\u001b[0m invalid syntax\n"
     ]
    }
   ],
   "source": [
    "collect((x**2+5*x+x**3+3x**2+5*x(y+1)**2)).expand(), x)"
   ]
  },
  {
   "cell_type": "code",
   "execution_count": 30,
   "metadata": {},
   "outputs": [
    {
     "ename": "SyntaxError",
     "evalue": "invalid syntax (3747134308.py, line 1)",
     "output_type": "error",
     "traceback": [
      "\u001b[0;36m  Input \u001b[0;32mIn [30]\u001b[0;36m\u001b[0m\n\u001b[0;31m    collect((x**2+5*x+x**3+3x**2+5*x(y+1)**2))\u001b[0m\n\u001b[0m                            ^\u001b[0m\n\u001b[0;31mSyntaxError\u001b[0m\u001b[0;31m:\u001b[0m invalid syntax\n"
     ]
    }
   ],
   "source": [
    "collect((x**2+5*x+x**3+3x**2+5*x(y+1)**2))"
   ]
  },
  {
   "cell_type": "code",
   "execution_count": 31,
   "metadata": {},
   "outputs": [
    {
     "ename": "TypeError",
     "evalue": "'Symbol' object is not callable",
     "output_type": "error",
     "traceback": [
      "\u001b[0;31m---------------------------------------------------------------------------\u001b[0m",
      "\u001b[0;31mTypeError\u001b[0m                                 Traceback (most recent call last)",
      "\u001b[1;32m/Users/macbookair/Documents/Universidad San Carlos/2022/Segundo semestre/Matematica basica 2/Untitled-1.ipynb Cell 32\u001b[0m in \u001b[0;36m<cell line: 1>\u001b[0;34m()\u001b[0m\n\u001b[0;32m----> <a href='vscode-notebook-cell:/Users/macbookair/Documents/Universidad%20San%20Carlos/2022/Segundo%20semestre/Matematica%20basica%202/Untitled-1.ipynb#X43sZmlsZQ%3D%3D?line=0'>1</a>\u001b[0m collect((x\u001b[39m*\u001b[39m\u001b[39m*\u001b[39m\u001b[39m2\u001b[39m\u001b[39m+\u001b[39m\u001b[39m5\u001b[39m\u001b[39m*\u001b[39mx\u001b[39m+\u001b[39mx\u001b[39m*\u001b[39m\u001b[39m*\u001b[39m\u001b[39m3\u001b[39m\u001b[39m+\u001b[39m\u001b[39m3\u001b[39m\u001b[39m*\u001b[39mx\u001b[39m*\u001b[39m\u001b[39m*\u001b[39m\u001b[39m2\u001b[39m\u001b[39m+\u001b[39m\u001b[39m5\u001b[39m\u001b[39m*\u001b[39mx(y\u001b[39m+\u001b[39;49m\u001b[39m1\u001b[39;49m)\u001b[39m*\u001b[39m\u001b[39m*\u001b[39m\u001b[39m2\u001b[39m)\u001b[39m.\u001b[39mexpand(), x)\n",
      "\u001b[0;31mTypeError\u001b[0m: 'Symbol' object is not callable"
     ]
    }
   ],
   "source": [
    "collect((x**2+5*x+x**3+3*x**2+5*x(y+1)**2).expand(), x)"
   ]
  },
  {
   "cell_type": "code",
   "execution_count": 32,
   "metadata": {},
   "outputs": [
    {
     "ename": "TypeError",
     "evalue": "'Symbol' object is not callable",
     "output_type": "error",
     "traceback": [
      "\u001b[0;31m---------------------------------------------------------------------------\u001b[0m",
      "\u001b[0;31mTypeError\u001b[0m                                 Traceback (most recent call last)",
      "\u001b[1;32m/Users/macbookair/Documents/Universidad San Carlos/2022/Segundo semestre/Matematica basica 2/Untitled-1.ipynb Cell 33\u001b[0m in \u001b[0;36m<cell line: 2>\u001b[0;34m()\u001b[0m\n\u001b[1;32m      <a href='vscode-notebook-cell:/Users/macbookair/Documents/Universidad%20San%20Carlos/2022/Segundo%20semestre/Matematica%20basica%202/Untitled-1.ipynb#X44sZmlsZQ%3D%3D?line=0'>1</a>\u001b[0m y \u001b[39m=\u001b[39m symbols(\u001b[39m\"\u001b[39m\u001b[39my\u001b[39m\u001b[39m\"\u001b[39m)\n\u001b[0;32m----> <a href='vscode-notebook-cell:/Users/macbookair/Documents/Universidad%20San%20Carlos/2022/Segundo%20semestre/Matematica%20basica%202/Untitled-1.ipynb#X44sZmlsZQ%3D%3D?line=1'>2</a>\u001b[0m collect((x\u001b[39m*\u001b[39m\u001b[39m*\u001b[39m\u001b[39m2\u001b[39m\u001b[39m+\u001b[39m\u001b[39m5\u001b[39m\u001b[39m*\u001b[39mx\u001b[39m+\u001b[39mx\u001b[39m*\u001b[39m\u001b[39m*\u001b[39m\u001b[39m3\u001b[39m\u001b[39m+\u001b[39m\u001b[39m3\u001b[39m\u001b[39m*\u001b[39mx\u001b[39m*\u001b[39m\u001b[39m*\u001b[39m\u001b[39m2\u001b[39m\u001b[39m+\u001b[39m\u001b[39m5\u001b[39m\u001b[39m*\u001b[39mx(y\u001b[39m+\u001b[39;49m\u001b[39m1\u001b[39;49m)\u001b[39m*\u001b[39m\u001b[39m*\u001b[39m\u001b[39m2\u001b[39m)\u001b[39m.\u001b[39mexpand(), x)\n",
      "\u001b[0;31mTypeError\u001b[0m: 'Symbol' object is not callable"
     ]
    }
   ],
   "source": [
    "y = symbols(\"y\")\n",
    "collect((x**2+5*x+x**3+3*x**2+5*x(y+1)**2).expand(), x)"
   ]
  },
  {
   "cell_type": "code",
   "execution_count": 33,
   "metadata": {},
   "outputs": [
    {
     "data": {
      "image/png": "[encoded data removed]",
      "text/latex": [
       "$\\displaystyle x^{3} + 4 x^{2} + x \\left(5 y^{2} + 10 y + 10\\right)$"
      ],
      "text/plain": [
       " 3      2     ⎛   2            ⎞\n",
       "x  + 4⋅x  + x⋅⎝5⋅y  + 10⋅y + 10⎠"
      ]
     },
     "execution_count": 33,
     "metadata": {},
     "output_type": "execute_result"
    }
   ],
   "source": [
    "collect((x**2+5*x+x**3+3*x**2+5*x*(y+1)**2).expand(), x)"
   ]
  },
  {
   "cell_type": "code",
   "execution_count": 34,
   "metadata": {},
   "outputs": [
    {
     "data": {
      "image/png": "[encoded data removed]",
      "text/latex": [
       "$\\displaystyle x^{3} + 4 x^{2} + 5 x y^{2} + 10 x y + 10 x$"
      ],
      "text/plain": [
       " 3      2        2                \n",
       "x  + 4⋅x  + 5⋅x⋅y  + 10⋅x⋅y + 10⋅x"
      ]
     },
     "execution_count": 34,
     "metadata": {},
     "output_type": "execute_result"
    }
   ],
   "source": [
    "collect((x**2+5*x+x**3+3*x**2+5*x*(y+1)**2).expand(), y)"
   ]
  },
  {
   "cell_type": "code",
   "execution_count": 35,
   "metadata": {},
   "outputs": [
    {
     "data": {
      "image/png": "[encoded data removed]",
      "text/latex": [
       "$\\displaystyle \\frac{2}{x + 3} - \\frac{1}{x + 2}$"
      ],
      "text/plain": [
       "  2       1  \n",
       "───── - ─────\n",
       "x + 3   x + 2"
      ]
     },
     "execution_count": 35,
     "metadata": {},
     "output_type": "execute_result"
    }
   ],
   "source": [
    "apart((x+1)/(x**2+5*x+6)) # Fracciones parciales"
   ]
  },
  {
   "cell_type": "code",
   "execution_count": 36,
   "metadata": {},
   "outputs": [
    {
     "data": {
      "image/png": "[encoded data removed]",
      "text/latex": [
       "$\\displaystyle \\frac{2}{x + 3} - \\frac{1}{x + 2}$"
      ],
      "text/plain": [
       "  2       1  \n",
       "───── - ─────\n",
       "x + 3   x + 2"
      ]
     },
     "execution_count": 36,
     "metadata": {},
     "output_type": "execute_result"
    }
   ],
   "source": [
    "_35"
   ]
  },
  {
   "cell_type": "code",
   "execution_count": 1,
   "metadata": {},
   "outputs": [
    {
     "ename": "NameError",
     "evalue": "name '_35' is not defined",
     "output_type": "error",
     "traceback": [
      "\u001b[0;31m---------------------------------------------------------------------------\u001b[0m",
      "\u001b[0;31mNameError\u001b[0m                                 Traceback (most recent call last)",
      "\u001b[1;32m/Users/macbookair/Documents/Universidad San Carlos/2022/Segundo semestre/Matematica basica 2/taller/Untitled-1.ipynb Cell 38\u001b[0m in \u001b[0;36m<cell line: 1>\u001b[0;34m()\u001b[0m\n\u001b[0;32m----> <a href='vscode-notebook-cell:/Users/macbookair/Documents/Universidad%20San%20Carlos/2022/Segundo%20semestre/Matematica%20basica%202/taller/Untitled-1.ipynb#X52sZmlsZQ%3D%3D?line=0'>1</a>\u001b[0m (_35)\u001b[39m.\u001b[39msubs(x, \u001b[39m5\u001b[39m)\n",
      "\u001b[0;31mNameError\u001b[0m: name '_35' is not defined"
     ]
    }
   ],
   "source": [
    "(_35).subs(x, 5)"
   ]
  },
  {
   "cell_type": "code",
   "execution_count": 2,
   "metadata": {},
   "outputs": [
    {
     "ename": "NameError",
     "evalue": "name '_35' is not defined",
     "output_type": "error",
     "traceback": [
      "\u001b[0;31m---------------------------------------------------------------------------\u001b[0m",
      "\u001b[0;31mNameError\u001b[0m                                 Traceback (most recent call last)",
      "\u001b[1;32m/Users/macbookair/Documents/Universidad San Carlos/2022/Segundo semestre/Matematica basica 2/taller/Untitled-1.ipynb Cell 39\u001b[0m in \u001b[0;36m<cell line: 1>\u001b[0;34m()\u001b[0m\n\u001b[0;32m----> <a href='vscode-notebook-cell:/Users/macbookair/Documents/Universidad%20San%20Carlos/2022/Segundo%20semestre/Matematica%20basica%202/taller/Untitled-1.ipynb#X53sZmlsZQ%3D%3D?line=0'>1</a>\u001b[0m (_35)\u001b[39m.\u001b[39msubs(x, \u001b[39m5\u001b[39m)\n",
      "\u001b[0;31mNameError\u001b[0m: name '_35' is not defined"
     ]
    }
   ],
   "source": [
    "(_35).subs(x, 5)"
   ]
  },
  {
   "cell_type": "code",
   "execution_count": 3,
   "metadata": {},
   "outputs": [
    {
     "ename": "NameError",
     "evalue": "name '_35' is not defined",
     "output_type": "error",
     "traceback": [
      "\u001b[0;31m---------------------------------------------------------------------------\u001b[0m",
      "\u001b[0;31mNameError\u001b[0m                                 Traceback (most recent call last)",
      "\u001b[1;32m/Users/macbookair/Documents/Universidad San Carlos/2022/Segundo semestre/Matematica basica 2/taller/Untitled-1.ipynb Cell 40\u001b[0m in \u001b[0;36m<cell line: 1>\u001b[0;34m()\u001b[0m\n\u001b[0;32m----> <a href='vscode-notebook-cell:/Users/macbookair/Documents/Universidad%20San%20Carlos/2022/Segundo%20semestre/Matematica%20basica%202/taller/Untitled-1.ipynb#X54sZmlsZQ%3D%3D?line=0'>1</a>\u001b[0m (_35)\n",
      "\u001b[0;31mNameError\u001b[0m: name '_35' is not defined"
     ]
    }
   ],
   "source": [
    "(_35)"
   ]
  },
  {
   "cell_type": "code",
   "execution_count": 4,
   "metadata": {},
   "outputs": [
    {
     "ename": "NameError",
     "evalue": "name '_35' is not defined",
     "output_type": "error",
     "traceback": [
      "\u001b[0;31m---------------------------------------------------------------------------\u001b[0m",
      "\u001b[0;31mNameError\u001b[0m                                 Traceback (most recent call last)",
      "\u001b[1;32m/Users/macbookair/Documents/Universidad San Carlos/2022/Segundo semestre/Matematica basica 2/taller/Untitled-1.ipynb Cell 41\u001b[0m in \u001b[0;36m<cell line: 1>\u001b[0;34m()\u001b[0m\n\u001b[0;32m----> <a href='vscode-notebook-cell:/Users/macbookair/Documents/Universidad%20San%20Carlos/2022/Segundo%20semestre/Matematica%20basica%202/taller/Untitled-1.ipynb#X55sZmlsZQ%3D%3D?line=0'>1</a>\u001b[0m _35\n",
      "\u001b[0;31mNameError\u001b[0m: name '_35' is not defined"
     ]
    }
   ],
   "source": [
    "_35"
   ]
  },
  {
   "cell_type": "code",
   "execution_count": 5,
   "metadata": {},
   "outputs": [
    {
     "ename": "NameError",
     "evalue": "name 'apart' is not defined",
     "output_type": "error",
     "traceback": [
      "\u001b[0;31m---------------------------------------------------------------------------\u001b[0m",
      "\u001b[0;31mNameError\u001b[0m                                 Traceback (most recent call last)",
      "\u001b[1;32m/Users/macbookair/Documents/Universidad San Carlos/2022/Segundo semestre/Matematica basica 2/taller/Untitled-1.ipynb Cell 42\u001b[0m in \u001b[0;36m<cell line: 1>\u001b[0;34m()\u001b[0m\n\u001b[0;32m----> <a href='vscode-notebook-cell:/Users/macbookair/Documents/Universidad%20San%20Carlos/2022/Segundo%20semestre/Matematica%20basica%202/taller/Untitled-1.ipynb#X56sZmlsZQ%3D%3D?line=0'>1</a>\u001b[0m apart((x\u001b[39m+\u001b[39m\u001b[39m1\u001b[39m)\u001b[39m/\u001b[39m(x\u001b[39m*\u001b[39m\u001b[39m*\u001b[39m\u001b[39m2\u001b[39m\u001b[39m+\u001b[39m\u001b[39m5\u001b[39m\u001b[39m*\u001b[39mx\u001b[39m+\u001b[39m\u001b[39m6\u001b[39m))\n",
      "\u001b[0;31mNameError\u001b[0m: name 'apart' is not defined"
     ]
    }
   ],
   "source": [
    "apart((x+1)/(x**2+5*x+6)) # Fracciones parciales"
   ]
  },
  {
   "cell_type": "code",
   "execution_count": 6,
   "metadata": {},
   "outputs": [],
   "source": [
    "from sympy import *"
   ]
  },
  {
   "cell_type": "code",
   "execution_count": 7,
   "metadata": {},
   "outputs": [],
   "source": [
    "init_printing()"
   ]
  },
  {
   "cell_type": "code",
   "execution_count": 8,
   "metadata": {},
   "outputs": [],
   "source": [
    "x,y = symbols(\"x y\")"
   ]
  },
  {
   "cell_type": "code",
   "execution_count": 9,
   "metadata": {},
   "outputs": [
    {
     "data": {
      "image/png": "[encoded data removed]",
      "text/latex": [
       "$\\displaystyle \\frac{2}{x + 3} - \\frac{1}{x + 2}$"
      ],
      "text/plain": [
       "  2       1  \n",
       "───── - ─────\n",
       "x + 3   x + 2"
      ]
     },
     "execution_count": 9,
     "metadata": {},
     "output_type": "execute_result"
    }
   ],
   "source": [
    "apart((x+1)/(x**2+5*x+6)) # Fracciones parciales"
   ]
  },
  {
   "cell_type": "code",
   "execution_count": 10,
   "metadata": {},
   "outputs": [
    {
     "data": {
      "image/png": "[encoded data removed]",
      "text/latex": [
       "$\\displaystyle \\frac{2}{x + 3} - \\frac{1}{x + 2}$"
      ],
      "text/plain": [
       "  2       1  \n",
       "───── - ─────\n",
       "x + 3   x + 2"
      ]
     },
     "execution_count": 10,
     "metadata": {},
     "output_type": "execute_result"
    }
   ],
   "source": [
    "(_9)"
   ]
  },
  {
   "cell_type": "code",
   "execution_count": 11,
   "metadata": {},
   "outputs": [
    {
     "data": {
      "image/png": "[encoded data removed]",
      "text/latex": [
       "$\\displaystyle \\frac{3}{28}$"
      ],
      "text/plain": [
       "3/28"
      ]
     },
     "execution_count": 11,
     "metadata": {},
     "output_type": "execute_result"
    }
   ],
   "source": [
    "(_9).subs(x, 5)"
   ]
  },
  {
   "cell_type": "code",
   "execution_count": 12,
   "metadata": {},
   "outputs": [
    {
     "data": {
      "image/png": "[encoded data removed]",
      "text/latex": [
       "$\\displaystyle \\frac{2}{x + 3} - \\frac{1}{x + 2}$"
      ],
      "text/plain": [
       "  2       1  \n",
       "───── - ─────\n",
       "x + 3   x + 2"
      ]
     },
     "execution_count": 12,
     "metadata": {},
     "output_type": "execute_result"
    }
   ],
   "source": [
    "(_9).subs((x,5), (y,3))"
   ]
  },
  {
   "cell_type": "code",
   "execution_count": 13,
   "metadata": {},
   "outputs": [
    {
     "ename": "NameError",
     "evalue": "name 'X' is not defined",
     "output_type": "error",
     "traceback": [
      "\u001b[0;31m---------------------------------------------------------------------------\u001b[0m",
      "\u001b[0;31mNameError\u001b[0m                                 Traceback (most recent call last)",
      "\u001b[1;32m/Users/macbookair/Documents/Universidad San Carlos/2022/Segundo semestre/Matematica basica 2/taller/Untitled-1.ipynb Cell 50\u001b[0m in \u001b[0;36m<cell line: 1>\u001b[0;34m()\u001b[0m\n\u001b[0;32m----> <a href='vscode-notebook-cell:/Users/macbookair/Documents/Universidad%20San%20Carlos/2022/Segundo%20semestre/Matematica%20basica%202/taller/Untitled-1.ipynb#Y100sZmlsZQ%3D%3D?line=0'>1</a>\u001b[0m collect((x\u001b[39m*\u001b[39m\u001b[39m*\u001b[39m\u001b[39m2\u001b[39m\u001b[39m+\u001b[39m\u001b[39m5\u001b[39m\u001b[39m*\u001b[39mx\u001b[39m+\u001b[39mx\u001b[39m*\u001b[39m\u001b[39m*\u001b[39m\u001b[39m3\u001b[39m\u001b[39m+\u001b[39m\u001b[39m3\u001b[39m\u001b[39m*\u001b[39mx\u001b[39m*\u001b[39m\u001b[39m*\u001b[39m\u001b[39m2\u001b[39m\u001b[39m+\u001b[39m\u001b[39m5\u001b[39m\u001b[39m*\u001b[39mx\u001b[39m*\u001b[39m(y\u001b[39m+\u001b[39m\u001b[39m1\u001b[39m)\u001b[39m*\u001b[39m\u001b[39m*\u001b[39m\u001b[39m2\u001b[39m)\u001b[39m.\u001b[39mexpand(), X)\n",
      "\u001b[0;31mNameError\u001b[0m: name 'X' is not defined"
     ]
    }
   ],
   "source": [
    "collect((x**2+5*x+x**3+3*x**2+5*x*(y+1)**2).expand(), X)"
   ]
  },
  {
   "cell_type": "code",
   "execution_count": 14,
   "metadata": {},
   "outputs": [
    {
     "data": {
      "image/png": "[encoded data removed]",
      "text/latex": [
       "$\\displaystyle x^{3} + 4 x^{2} + x \\left(5 y^{2} + 10 y + 10\\right)$"
      ],
      "text/plain": [
       " 3      2     ⎛   2            ⎞\n",
       "x  + 4⋅x  + x⋅⎝5⋅y  + 10⋅y + 10⎠"
      ]
     },
     "execution_count": 14,
     "metadata": {},
     "output_type": "execute_result"
    }
   ],
   "source": [
    "collect((x**2+5*x+x**3+3*x**2+5*x*(y+1)**2).expand(), x)"
   ]
  },
  {
   "cell_type": "code",
   "execution_count": 15,
   "metadata": {},
   "outputs": [
    {
     "data": {
      "image/png": "[encoded data removed]",
      "text/latex": [
       "$\\displaystyle x^{3} + 4 x^{2} + 5 x y^{2} + 10 x y + 10 x$"
      ],
      "text/plain": [
       " 3      2        2                \n",
       "x  + 4⋅x  + 5⋅x⋅y  + 10⋅x⋅y + 10⋅x"
      ]
     },
     "execution_count": 15,
     "metadata": {},
     "output_type": "execute_result"
    }
   ],
   "source": [
    "collect((x**2+5*x+x**3+3*x**2+5*x*(y+1)**2).expand(), y)"
   ]
  },
  {
   "cell_type": "code",
   "execution_count": 16,
   "metadata": {},
   "outputs": [],
   "source": [
    "expr = (_15)"
   ]
  },
  {
   "cell_type": "code",
   "execution_count": 17,
   "metadata": {},
   "outputs": [
    {
     "data": {
      "image/png": "[encoded data removed]",
      "text/latex": [
       "$\\displaystyle x^{3} + 4 x^{2} + 5 x y^{2} + 10 x y + 10 x$"
      ],
      "text/plain": [
       " 3      2        2                \n",
       "x  + 4⋅x  + 5⋅x⋅y  + 10⋅x⋅y + 10⋅x"
      ]
     },
     "execution_count": 17,
     "metadata": {},
     "output_type": "execute_result"
    }
   ],
   "source": [
    "expr.subs({x:5}, {y:3})"
   ]
  },
  {
   "cell_type": "code",
   "execution_count": 18,
   "metadata": {},
   "outputs": [
    {
     "data": {
      "image/png": "[encoded data removed]",
      "text/latex": [
       "$\\displaystyle 650$"
      ],
      "text/plain": [
       "650"
      ]
     },
     "execution_count": 18,
     "metadata": {},
     "output_type": "execute_result"
    }
   ],
   "source": [
    "expr.subs({x:5, y:3})"
   ]
  },
  {
   "cell_type": "code",
   "execution_count": 19,
   "metadata": {},
   "outputs": [
    {
     "data": {
      "image/png": "[encoded data removed]",
      "text/latex": [
       "$\\displaystyle \\left(x - 1\\right)^{6} + 9 \\left(x - 1\\right)^{4} + 10 \\left(x - 1\\right)^{3} + 10 \\left(x - 1\\right)^{2}$"
      ],
      "text/plain": [
       "       6            4             3             2\n",
       "(x - 1)  + 9⋅(x - 1)  + 10⋅(x - 1)  + 10⋅(x - 1) "
      ]
     },
     "execution_count": 19,
     "metadata": {},
     "output_type": "execute_result"
    }
   ],
   "source": [
    "expr.subs({x: y**2, y:x-1}) # sustitucion de expresiones"
   ]
  },
  {
   "cell_type": "code",
   "execution_count": 20,
   "metadata": {},
   "outputs": [
    {
     "data": {
      "image/png": "[encoded data removed]",
      "text/latex": [
       "$\\displaystyle x^{3} + 4 x^{2} + 5 x y^{2} + 10 x y + 10 x$"
      ],
      "text/plain": [
       " 3      2        2                \n",
       "x  + 4⋅x  + 5⋅x⋅y  + 10⋅x⋅y + 10⋅x"
      ]
     },
     "execution_count": 20,
     "metadata": {},
     "output_type": "execute_result"
    }
   ],
   "source": [
    "expr.subs({x: 3, y:2}, {x: y-5, y: x**3}) # sustituciones sucesivas"
   ]
  },
  {
   "cell_type": "code",
   "execution_count": 21,
   "metadata": {},
   "outputs": [
    {
     "ename": "KeyError",
     "evalue": "0",
     "output_type": "error",
     "traceback": [
      "\u001b[0;31m---------------------------------------------------------------------------\u001b[0m",
      "\u001b[0;31mKeyError\u001b[0m                                  Traceback (most recent call last)",
      "\u001b[1;32m/Users/macbookair/Documents/Universidad San Carlos/2022/Segundo semestre/Matematica basica 2/taller/Untitled-1.ipynb Cell 58\u001b[0m in \u001b[0;36m<cell line: 1>\u001b[0;34m()\u001b[0m\n\u001b[0;32m----> <a href='vscode-notebook-cell:/Users/macbookair/Documents/Universidad%20San%20Carlos/2022/Segundo%20semestre/Matematica%20basica%202/taller/Untitled-1.ipynb#Y111sZmlsZQ%3D%3D?line=0'>1</a>\u001b[0m expr\u001b[39m.\u001b[39;49msubs([{x: \u001b[39m3\u001b[39;49m, y:\u001b[39m2\u001b[39;49m}, {x: y\u001b[39m-\u001b[39;49m\u001b[39m5\u001b[39;49m, y: x\u001b[39m*\u001b[39;49m\u001b[39m*\u001b[39;49m\u001b[39m3\u001b[39;49m}])\n",
      "File \u001b[0;32m~/opt/anaconda3/lib/python3.9/site-packages/sympy/core/basic.py:933\u001b[0m, in \u001b[0;36mBasic.subs\u001b[0;34m(self, *args, **kwargs)\u001b[0m\n\u001b[1;32m    931\u001b[0m sequence \u001b[39m=\u001b[39m \u001b[39mlist\u001b[39m(sequence)\n\u001b[1;32m    932\u001b[0m \u001b[39mfor\u001b[39;00m i, s \u001b[39min\u001b[39;00m \u001b[39menumerate\u001b[39m(sequence):\n\u001b[0;32m--> 933\u001b[0m     \u001b[39mif\u001b[39;00m \u001b[39misinstance\u001b[39m(s[\u001b[39m0\u001b[39;49m], \u001b[39mstr\u001b[39m):\n\u001b[1;32m    934\u001b[0m         \u001b[39m# when old is a string we prefer Symbol\u001b[39;00m\n\u001b[1;32m    935\u001b[0m         s \u001b[39m=\u001b[39m Symbol(s[\u001b[39m0\u001b[39m]), s[\u001b[39m1\u001b[39m]\n\u001b[1;32m    936\u001b[0m     \u001b[39mtry\u001b[39;00m:\n",
      "\u001b[0;31mKeyError\u001b[0m: 0"
     ]
    }
   ],
   "source": [
    "expr.subs([{x: 3, y:2}, {x: y-5, y: x**3}]) # sustituciones sucesivas"
   ]
  },
  {
   "cell_type": "code",
   "execution_count": 22,
   "metadata": {},
   "outputs": [
    {
     "data": {
      "image/png": "[encoded data removed]",
      "text/latex": [
       "$\\displaystyle 3275$"
      ],
      "text/plain": [
       "3275"
      ]
     },
     "execution_count": 22,
     "metadata": {},
     "output_type": "execute_result"
    }
   ],
   "source": [
    "expr.subs(x, y-5).subs(y, 10)"
   ]
  },
  {
   "cell_type": "code",
   "execution_count": 23,
   "metadata": {},
   "outputs": [],
   "source": [
    "# Ecuaciones"
   ]
  },
  {
   "cell_type": "code",
   "execution_count": 25,
   "metadata": {},
   "outputs": [
    {
     "data": {
      "image/png": "[encoded data removed]",
      "text/latex": [
       "$\\displaystyle \\left[ -3, \\  -2\\right]$"
      ],
      "text/plain": [
       "[-3, -2]"
      ]
     },
     "execution_count": 25,
     "metadata": {},
     "output_type": "execute_result"
    }
   ],
   "source": [
    "solve(x**2+5*x+6) # resolver ecuaciones"
   ]
  },
  {
   "cell_type": "code",
   "execution_count": 26,
   "metadata": {},
   "outputs": [
    {
     "data": {
      "image/png": "[encoded data removed]",
      "text/latex": [
       "$\\displaystyle \\left\\{ x : \\frac{1}{2}, \\  y : \\frac{1}{2}\\right\\}$"
      ],
      "text/plain": [
       "{x: 1/2, y: 1/2}"
      ]
     },
     "execution_count": 26,
     "metadata": {},
     "output_type": "execute_result"
    }
   ],
   "source": [
    "solve([x+y-1, x-y]) # resolver sistemas de ecuaciones: x+y = 1; x-y = 0"
   ]
  },
  {
   "cell_type": "code",
   "execution_count": 27,
   "metadata": {},
   "outputs": [
    {
     "data": {
      "image/png": "[encoded data removed]",
      "text/latex": [
       "$\\displaystyle x^{3} + 4 x^{2} + 5 x y^{2} + 10 x y + 10 x$"
      ],
      "text/plain": [
       " 3      2        2                \n",
       "x  + 4⋅x  + 5⋅x⋅y  + 10⋅x⋅y + 10⋅x"
      ]
     },
     "execution_count": 27,
     "metadata": {},
     "output_type": "execute_result"
    }
   ],
   "source": [
    "expr.subs([{x: 3, y:2}, {x: y-5, y: x**3}], [x, y]) # sustituciones sucesivas"
   ]
  },
  {
   "cell_type": "code",
   "execution_count": 28,
   "metadata": {},
   "outputs": [
    {
     "ename": "KeyError",
     "evalue": "0",
     "output_type": "error",
     "traceback": [
      "\u001b[0;31m---------------------------------------------------------------------------\u001b[0m",
      "\u001b[0;31mKeyError\u001b[0m                                  Traceback (most recent call last)",
      "\u001b[1;32m/Users/macbookair/Documents/Universidad San Carlos/2022/Segundo semestre/Matematica basica 2/taller/Untitled-1.ipynb Cell 64\u001b[0m in \u001b[0;36m<cell line: 1>\u001b[0;34m()\u001b[0m\n\u001b[0;32m----> <a href='vscode-notebook-cell:/Users/macbookair/Documents/Universidad%20San%20Carlos/2022/Segundo%20semestre/Matematica%20basica%202/taller/Untitled-1.ipynb#Y120sZmlsZQ%3D%3D?line=0'>1</a>\u001b[0m expr\u001b[39m.\u001b[39;49msubs([{x: \u001b[39m3\u001b[39;49m, y:\u001b[39m2\u001b[39;49m}, {x: y\u001b[39m-\u001b[39;49m\u001b[39m5\u001b[39;49m, y: x\u001b[39m*\u001b[39;49m\u001b[39m*\u001b[39;49m\u001b[39m3\u001b[39;49m}, [x, y]])\n",
      "File \u001b[0;32m~/opt/anaconda3/lib/python3.9/site-packages/sympy/core/basic.py:933\u001b[0m, in \u001b[0;36mBasic.subs\u001b[0;34m(self, *args, **kwargs)\u001b[0m\n\u001b[1;32m    931\u001b[0m sequence \u001b[39m=\u001b[39m \u001b[39mlist\u001b[39m(sequence)\n\u001b[1;32m    932\u001b[0m \u001b[39mfor\u001b[39;00m i, s \u001b[39min\u001b[39;00m \u001b[39menumerate\u001b[39m(sequence):\n\u001b[0;32m--> 933\u001b[0m     \u001b[39mif\u001b[39;00m \u001b[39misinstance\u001b[39m(s[\u001b[39m0\u001b[39;49m], \u001b[39mstr\u001b[39m):\n\u001b[1;32m    934\u001b[0m         \u001b[39m# when old is a string we prefer Symbol\u001b[39;00m\n\u001b[1;32m    935\u001b[0m         s \u001b[39m=\u001b[39m Symbol(s[\u001b[39m0\u001b[39m]), s[\u001b[39m1\u001b[39m]\n\u001b[1;32m    936\u001b[0m     \u001b[39mtry\u001b[39;00m:\n",
      "\u001b[0;31mKeyError\u001b[0m: 0"
     ]
    }
   ],
   "source": [
    "expr.subs([{x: 3, y:2}, {x: y-5, y: x**3}, [x, y]]) # sustituciones sucesivas"
   ]
  },
  {
   "cell_type": "code",
   "execution_count": 29,
   "metadata": {},
   "outputs": [
    {
     "data": {
      "image/png": "[encoded data removed]",
      "text/latex": [
       "$\\displaystyle \\left\\{ x : \\frac{1}{2}, \\  y : \\frac{1}{2}\\right\\}$"
      ],
      "text/plain": [
       "{x: 1/2, y: 1/2}"
      ]
     },
     "execution_count": 29,
     "metadata": {},
     "output_type": "execute_result"
    }
   ],
   "source": [
    "solve([x+y-1, x-y], [x,y]) # resolver sistemas de ecuaciones: x+y = 1; x-y = 0"
   ]
  },
  {
   "cell_type": "code",
   "execution_count": 30,
   "metadata": {},
   "outputs": [
    {
     "data": {
      "image/png": "[encoded data removed]",
      "text/latex": [
       "$\\displaystyle \\frac{1}{r} = \\frac{1}{r_{2}} + \\frac{1}{r_{1}}$"
      ],
      "text/plain": [
       "1   1    1 \n",
       "─ = ── + ──\n",
       "r   r₂   r₁"
      ]
     },
     "execution_count": 30,
     "metadata": {},
     "output_type": "execute_result"
    }
   ],
   "source": [
    "r,r_1,r_2 = symbols(\"r r_1 r_2\")\n",
    "Eq(1/r, 1/r_1+1/r_2) "
   ]
  },
  {
   "cell_type": "code",
   "execution_count": 31,
   "metadata": {},
   "outputs": [
    {
     "data": {
      "image/png": "[encoded data removed]",
      "text/latex": [
       "$\\displaystyle \\left[ - \\frac{r r_{1}}{r - r_{1}}\\right]$"
      ],
      "text/plain": [
       "⎡-r⋅r₁ ⎤\n",
       "⎢──────⎥\n",
       "⎣r - r₁⎦"
      ]
     },
     "execution_count": 31,
     "metadata": {},
     "output_type": "execute_result"
    }
   ],
   "source": [
    "ec = Eq(1/r, 1/r_1+1/r_2) \n",
    "solve(ec, r_2) # Despejar expresion resistencias en circuito 1/r=1/r1+1/r2"
   ]
  },
  {
   "cell_type": "code",
   "execution_count": 32,
   "metadata": {},
   "outputs": [],
   "source": [
    "## Calculo de limites, derivadas, sumatorias y derivadas"
   ]
  },
  {
   "cell_type": "code",
   "execution_count": 33,
   "metadata": {},
   "outputs": [],
   "source": [
    "### Limites"
   ]
  },
  {
   "cell_type": "code",
   "execution_count": 34,
   "metadata": {},
   "outputs": [
    {
     "data": {
      "image/png": "[encoded data removed]",
      "text/latex": [
       "$\\displaystyle 1$"
      ],
      "text/plain": [
       "1"
      ]
     },
     "execution_count": 34,
     "metadata": {},
     "output_type": "execute_result"
    }
   ],
   "source": [
    "limit(sin(x)/x, x, 0)"
   ]
  },
  {
   "cell_type": "code",
   "execution_count": 1,
   "metadata": {},
   "outputs": [
    {
     "ename": "NameError",
     "evalue": "name 'limit' is not defined",
     "output_type": "error",
     "traceback": [
      "\u001b[0;31m---------------------------------------------------------------------------\u001b[0m",
      "\u001b[0;31mNameError\u001b[0m                                 Traceback (most recent call last)",
      "\u001b[1;32m/Users/macbookair/Documents/Universidad San Carlos/2022/Segundo semestre/Matematica basica 2/taller/taller-2.ipynb Cell 71\u001b[0m in \u001b[0;36m<cell line: 1>\u001b[0;34m()\u001b[0m\n\u001b[0;32m----> <a href='vscode-notebook-cell:/Users/macbookair/Documents/Universidad%20San%20Carlos/2022/Segundo%20semestre/Matematica%20basica%202/taller/taller-2.ipynb#Y130sZmlsZQ%3D%3D?line=0'>1</a>\u001b[0m limit(\u001b[39m3\u001b[39m\u001b[39m*\u001b[39mx\u001b[39m*\u001b[39m\u001b[39m*\u001b[39m\u001b[39m2\u001b[39m\u001b[39m+\u001b[39m\u001b[39m5\u001b[39m\u001b[39m*\u001b[39mx\u001b[39m+\u001b[39m\u001b[39m6\u001b[39m\u001b[39m/\u001b[39m(\u001b[39m7\u001b[39m\u001b[39m*\u001b[39mx\u001b[39m*\u001b[39m\u001b[39m*\u001b[39m\u001b[39m2\u001b[39m\u001b[39m+\u001b[39m\u001b[39m8\u001b[39m\u001b[39m*\u001b[39mx\u001b[39m-\u001b[39m\u001b[39m3\u001b[39m), x, oo)\n",
      "\u001b[0;31mNameError\u001b[0m: name 'limit' is not defined"
     ]
    }
   ],
   "source": [
    "limit(3*x**2+5*x+6/(7*x**2+8*x-3), x, oo) # limite al infinito"
   ]
  },
  {
   "cell_type": "code",
   "execution_count": 2,
   "metadata": {},
   "outputs": [],
   "source": [
    "from sympy import *\n",
    "init_printing()"
   ]
  },
  {
   "cell_type": "code",
   "execution_count": 3,
   "metadata": {},
   "outputs": [],
   "source": [
    "x,y = symbols(\"x y\")"
   ]
  },
  {
   "cell_type": "code",
   "execution_count": 4,
   "metadata": {},
   "outputs": [
    {
     "data": {
      "image/png": "[encoded data removed]",
      "text/latex": [
       "$\\displaystyle \\infty$"
      ],
      "text/plain": [
       "∞"
      ]
     },
     "execution_count": 4,
     "metadata": {},
     "output_type": "execute_result"
    }
   ],
   "source": [
    "limit(3*x**2+5*x+6/(7*x**2+8*x-3), x, oo) # limite al infinito"
   ]
  },
  {
   "cell_type": "code",
   "execution_count": 5,
   "metadata": {},
   "outputs": [
    {
     "data": {
      "image/png": "[encoded data removed]",
      "text/latex": [
       "$\\displaystyle \\infty$"
      ],
      "text/plain": [
       "∞"
      ]
     },
     "execution_count": 5,
     "metadata": {},
     "output_type": "execute_result"
    }
   ],
   "source": [
    "limit(1/x,x,0)"
   ]
  },
  {
   "cell_type": "code",
   "execution_count": 6,
   "metadata": {},
   "outputs": [],
   "source": [
    "# Sumatorias\n",
    "n=symbols(\"n\")"
   ]
  },
  {
   "cell_type": "code",
   "execution_count": 7,
   "metadata": {},
   "outputs": [
    {
     "data": {
      "image/png": "[encoded data removed]",
      "text/latex": [
       "$\\displaystyle 5050$"
      ],
      "text/plain": [
       "5050"
      ]
     },
     "execution_count": 7,
     "metadata": {},
     "output_type": "execute_result"
    }
   ],
   "source": [
    "summation(n,(n,1,100))"
   ]
  },
  {
   "cell_type": "code",
   "execution_count": 9,
   "metadata": {},
   "outputs": [
    {
     "data": {
      "image/png": "[encoded data removed]",
      "text/latex": [
       "$\\displaystyle 500$"
      ],
      "text/plain": [
       "500"
      ]
     },
     "execution_count": 9,
     "metadata": {},
     "output_type": "execute_result"
    }
   ],
   "source": [
    "summation(2*2+1, (n,1,100)) # sumatoria de numeros impoares del 3 al 201"
   ]
  },
  {
   "cell_type": "code",
   "execution_count": 10,
   "metadata": {},
   "outputs": [
    {
     "data": {
      "image/png": "[encoded data removed]",
      "text/latex": [
       "$\\displaystyle 10200$"
      ],
      "text/plain": [
       "10200"
      ]
     },
     "execution_count": 10,
     "metadata": {},
     "output_type": "execute_result"
    }
   ],
   "source": [
    "summation(2*n+1, (n,1,100)) # sumatoria de numeros impoares del 3 al 201"
   ]
  },
  {
   "cell_type": "code",
   "execution_count": 11,
   "metadata": {},
   "outputs": [],
   "source": [
    "# Derivadas"
   ]
  },
  {
   "cell_type": "code",
   "execution_count": 12,
   "metadata": {},
   "outputs": [
    {
     "data": {
      "image/png": "[encoded data removed]",
      "text/latex": [
       "$\\displaystyle 2 x$"
      ],
      "text/plain": [
       "2⋅x"
      ]
     },
     "execution_count": 12,
     "metadata": {},
     "output_type": "execute_result"
    }
   ],
   "source": [
    "diff(x**2)"
   ]
  },
  {
   "cell_type": "code",
   "execution_count": 13,
   "metadata": {},
   "outputs": [
    {
     "data": {
      "image/png": "[encoded data removed]",
      "text/latex": [
       "$\\displaystyle - \\frac{1}{x^{2}}$"
      ],
      "text/plain": [
       "-1 \n",
       "───\n",
       "  2\n",
       " x "
      ]
     },
     "execution_count": 13,
     "metadata": {},
     "output_type": "execute_result"
    }
   ],
   "source": [
    "diff(log(x), (x, 2)) # derivada de orden superior"
   ]
  },
  {
   "cell_type": "code",
   "execution_count": 14,
   "metadata": {},
   "outputs": [
    {
     "data": {
      "image/png": "[encoded data removed]",
      "text/latex": [
       "$\\displaystyle \\frac{9426890448883247745626185743057242473809693764078951663494238777294707070023223798882976159207729119823605850588608460429412647567360000000000000000000000}{x^{99}}$"
      ],
      "text/plain": [
       "942689044888324774562618574305724247380969376407895166349423877729470707002322\n",
       "──────────────────────────────────────────────────────────────────────────────\n",
       "                                                                            99\n",
       "                                                                           x  \n",
       "\n",
       "3798882976159207729119823605850588608460429412647567360000000000000000000000\n",
       "────────────────────────────────────────────────────────────────────────────\n",
       "                                                                            \n",
       "                                                                            "
      ]
     },
     "execution_count": 14,
     "metadata": {},
     "output_type": "execute_result"
    }
   ],
   "source": [
    "diff(log(x), (x, 99)) # derivada de orden superior"
   ]
  },
  {
   "cell_type": "code",
   "execution_count": 15,
   "metadata": {},
   "outputs": [
    {
     "data": {
      "text/plain": [
       "<bound method Expr.diff of log(x)>"
      ]
     },
     "execution_count": 15,
     "metadata": {},
     "output_type": "execute_result"
    }
   ],
   "source": [
    "(log(x)).diff"
   ]
  },
  {
   "cell_type": "code",
   "execution_count": 16,
   "metadata": {},
   "outputs": [
    {
     "data": {
      "image/png": "[encoded data removed]",
      "text/latex": [
       "$\\displaystyle \\frac{1}{x}$"
      ],
      "text/plain": [
       "1\n",
       "─\n",
       "x"
      ]
     },
     "execution_count": 16,
     "metadata": {},
     "output_type": "execute_result"
    }
   ],
   "source": [
    "(log(x)).diff()"
   ]
  },
  {
   "cell_type": "code",
   "execution_count": 17,
   "metadata": {},
   "outputs": [
    {
     "ename": "NameError",
     "evalue": "name 'X' is not defined",
     "output_type": "error",
     "traceback": [
      "\u001b[0;31m---------------------------------------------------------------------------\u001b[0m",
      "\u001b[0;31mNameError\u001b[0m                                 Traceback (most recent call last)",
      "\u001b[1;32m/Users/macbookair/Documents/Universidad San Carlos/2022/Segundo semestre/Matematica basica 2/taller/taller-2.ipynb Cell 86\u001b[0m in \u001b[0;36m<cell line: 1>\u001b[0;34m()\u001b[0m\n\u001b[0;32m----> <a href='vscode-notebook-cell:/Users/macbookair/Documents/Universidad%20San%20Carlos/2022/Segundo%20semestre/Matematica%20basica%202/taller/taller-2.ipynb#Y151sZmlsZQ%3D%3D?line=0'>1</a>\u001b[0m (log(x)\u001b[39m+\u001b[39mcos(y))\u001b[39m.\u001b[39mdiff(X)\n",
      "\u001b[0;31mNameError\u001b[0m: name 'X' is not defined"
     ]
    }
   ],
   "source": [
    "(log(x)+cos(y)).diff(X)"
   ]
  },
  {
   "cell_type": "code",
   "execution_count": 18,
   "metadata": {},
   "outputs": [
    {
     "data": {
      "image/png": "[encoded data removed]",
      "text/latex": [
       "$\\displaystyle \\frac{1}{x}$"
      ],
      "text/plain": [
       "1\n",
       "─\n",
       "x"
      ]
     },
     "execution_count": 18,
     "metadata": {},
     "output_type": "execute_result"
    }
   ],
   "source": [
    "(log(x)+cos(y)).diff(x)"
   ]
  },
  {
   "cell_type": "code",
   "execution_count": 19,
   "metadata": {},
   "outputs": [
    {
     "data": {
      "image/png": "[encoded data removed]",
      "text/latex": [
       "$\\displaystyle - \\sin{\\left(y \\right)}$"
      ],
      "text/plain": [
       "-sin(y)"
      ]
     },
     "execution_count": 19,
     "metadata": {},
     "output_type": "execute_result"
    }
   ],
   "source": [
    "(log(x)+cos(y)).diff(y) # derivacion parcialL"
   ]
  },
  {
   "cell_type": "code",
   "execution_count": 20,
   "metadata": {},
   "outputs": [],
   "source": [
    "# Integrales"
   ]
  },
  {
   "cell_type": "code",
   "execution_count": 21,
   "metadata": {},
   "outputs": [
    {
     "data": {
      "image/png": "[encoded data removed]",
      "text/latex": [
       "$\\displaystyle \\frac{x^{3}}{3}$"
      ],
      "text/plain": [
       " 3\n",
       "x \n",
       "──\n",
       "3 "
      ]
     },
     "execution_count": 21,
     "metadata": {},
     "output_type": "execute_result"
    }
   ],
   "source": [
    "integrate(x**2)"
   ]
  },
  {
   "cell_type": "code",
   "execution_count": 22,
   "metadata": {},
   "outputs": [
    {
     "data": {
      "image/png": "[encoded data removed]",
      "text/latex": [
       "$\\displaystyle \\frac{x^{3}}{3}$"
      ],
      "text/plain": [
       " 3\n",
       "x \n",
       "──\n",
       "3 "
      ]
     },
     "execution_count": 22,
     "metadata": {},
     "output_type": "execute_result"
    }
   ],
   "source": [
    "integrate(x**2) # calculo de integrationes indefinidas"
   ]
  },
  {
   "cell_type": "code",
   "execution_count": 23,
   "metadata": {},
   "outputs": [
    {
     "data": {
      "image/png": "[encoded data removed]",
      "text/latex": [
       "$\\displaystyle \\frac{x^{3}}{3} + x y$"
      ],
      "text/plain": [
       " 3      \n",
       "x       \n",
       "── + x⋅y\n",
       "3       "
      ]
     },
     "execution_count": 23,
     "metadata": {},
     "output_type": "execute_result"
    }
   ],
   "source": [
    "integrate(x**2+y, x)# calculo de integrales indefinidas con dos variables"
   ]
  },
  {
   "cell_type": "code",
   "execution_count": 24,
   "metadata": {},
   "outputs": [
    {
     "data": {
      "image/png": "[encoded data removed]",
      "text/latex": [
       "$\\displaystyle x^{2} y + \\frac{y^{2}}{2}$"
      ],
      "text/plain": [
       "        2\n",
       " 2     y \n",
       "x ⋅y + ──\n",
       "       2 "
      ]
     },
     "execution_count": 24,
     "metadata": {},
     "output_type": "execute_result"
    }
   ],
   "source": [
    "integrate(x**2+y, y)# calculo de integrales indefinidas con dos variables"
   ]
  },
  {
   "cell_type": "code",
   "execution_count": 25,
   "metadata": {},
   "outputs": [
    {
     "data": {
      "image/png": "[encoded data removed]",
      "text/latex": [
       "$\\displaystyle 270$"
      ],
      "text/plain": [
       "270"
      ]
     },
     "execution_count": 25,
     "metadata": {},
     "output_type": "execute_result"
    }
   ],
   "source": [
    "integrate(x**2+5*x+6, (x, 1,7)) # calculo de integrales definidas"
   ]
  },
  {
   "cell_type": "code",
   "execution_count": 26,
   "metadata": {},
   "outputs": [],
   "source": [
    "# matrices\n",
    "## Valores numericos o variables"
   ]
  },
  {
   "cell_type": "code",
   "execution_count": 27,
   "metadata": {},
   "outputs": [
    {
     "ename": "TypeError",
     "evalue": "\nData type not understood; expecting list of lists or lists of values.",
     "output_type": "error",
     "traceback": [
      "\u001b[0;31m---------------------------------------------------------------------------\u001b[0m",
      "\u001b[0;31mTypeError\u001b[0m                                 Traceback (most recent call last)",
      "\u001b[1;32m/Users/macbookair/Documents/Universidad San Carlos/2022/Segundo semestre/Matematica basica 2/taller/taller-2.ipynb Cell 96\u001b[0m in \u001b[0;36m<cell line: 2>\u001b[0;34m()\u001b[0m\n\u001b[1;32m      <a href='vscode-notebook-cell:/Users/macbookair/Documents/Universidad%20San%20Carlos/2022/Segundo%20semestre/Matematica%20basica%202/taller/taller-2.ipynb#Y164sZmlsZQ%3D%3D?line=0'>1</a>\u001b[0m a, b, c, d \u001b[39m=\u001b[39m symbols(\u001b[39m\"\u001b[39m\u001b[39ma b c d\u001b[39m\u001b[39m\"\u001b[39m)\n\u001b[0;32m----> <a href='vscode-notebook-cell:/Users/macbookair/Documents/Universidad%20San%20Carlos/2022/Segundo%20semestre/Matematica%20basica%202/taller/taller-2.ipynb#Y164sZmlsZQ%3D%3D?line=1'>2</a>\u001b[0m m1 \u001b[39m=\u001b[39m Matrix([a,b], [c,d])\n",
      "File \u001b[0;32m~/opt/anaconda3/lib/python3.9/site-packages/sympy/matrices/repmatrix.py:329\u001b[0m, in \u001b[0;36mMutableRepMatrix.__new__\u001b[0;34m(cls, *args, **kwargs)\u001b[0m\n\u001b[1;32m    328\u001b[0m \u001b[39mdef\u001b[39;00m \u001b[39m__new__\u001b[39m(\u001b[39mcls\u001b[39m, \u001b[39m*\u001b[39margs, \u001b[39m*\u001b[39m\u001b[39m*\u001b[39mkwargs):\n\u001b[0;32m--> 329\u001b[0m     \u001b[39mreturn\u001b[39;00m \u001b[39mcls\u001b[39;49m\u001b[39m.\u001b[39;49m_new(\u001b[39m*\u001b[39;49margs, \u001b[39m*\u001b[39;49m\u001b[39m*\u001b[39;49mkwargs)\n",
      "File \u001b[0;32m~/opt/anaconda3/lib/python3.9/site-packages/sympy/matrices/repmatrix.py:340\u001b[0m, in \u001b[0;36mMutableRepMatrix._new\u001b[0;34m(cls, copy, *args, **kwargs)\u001b[0m\n\u001b[1;32m    338\u001b[0m     rows, cols, flat_list \u001b[39m=\u001b[39m args\n\u001b[1;32m    339\u001b[0m \u001b[39melse\u001b[39;00m:\n\u001b[0;32m--> 340\u001b[0m     rows, cols, flat_list \u001b[39m=\u001b[39m \u001b[39mcls\u001b[39;49m\u001b[39m.\u001b[39;49m_handle_creation_inputs(\u001b[39m*\u001b[39;49margs, \u001b[39m*\u001b[39;49m\u001b[39m*\u001b[39;49mkwargs)\n\u001b[1;32m    341\u001b[0m     flat_list \u001b[39m=\u001b[39m \u001b[39mlist\u001b[39m(flat_list) \u001b[39m# create a shallow copy\u001b[39;00m\n\u001b[1;32m    343\u001b[0m rep \u001b[39m=\u001b[39m \u001b[39mcls\u001b[39m\u001b[39m.\u001b[39m_flat_list_to_DomainMatrix(rows, cols, flat_list)\n",
      "File \u001b[0;32m~/opt/anaconda3/lib/python3.9/site-packages/sympy/matrices/matrices.py:1146\u001b[0m, in \u001b[0;36mMatrixBase._handle_creation_inputs\u001b[0;34m(cls, *args, **kwargs)\u001b[0m\n\u001b[1;32m   1143\u001b[0m     flat_list \u001b[39m=\u001b[39m []\n\u001b[1;32m   1145\u001b[0m \u001b[39mif\u001b[39;00m flat_list \u001b[39mis\u001b[39;00m \u001b[39mNone\u001b[39;00m:\n\u001b[0;32m-> 1146\u001b[0m     \u001b[39mraise\u001b[39;00m \u001b[39mTypeError\u001b[39;00m(filldedent(\u001b[39m'''\u001b[39m\n\u001b[1;32m   1147\u001b[0m \u001b[39m        Data type not understood; expecting list of lists\u001b[39m\n\u001b[1;32m   1148\u001b[0m \u001b[39m        or lists of values.\u001b[39m\u001b[39m'''\u001b[39m))\n\u001b[1;32m   1150\u001b[0m \u001b[39mreturn\u001b[39;00m rows, cols, flat_list\n",
      "\u001b[0;31mTypeError\u001b[0m: \nData type not understood; expecting list of lists or lists of values."
     ]
    }
   ],
   "source": [
    "a, b, c, d = symbols(\"a b c d\")\n",
    "m1 = Matrix([a,b], [c,d])"
   ]
  },
  {
   "cell_type": "code",
   "execution_count": 28,
   "metadata": {},
   "outputs": [
    {
     "ename": "SyntaxError",
     "evalue": "invalid syntax (2121113806.py, line 1)",
     "output_type": "error",
     "traceback": [
      "\u001b[0;36m  Input \u001b[0;32mIn [28]\u001b[0;36m\u001b[0m\n\u001b[0;31m    m1 = Matrix([[a,b], [c,d]args=])\u001b[0m\n\u001b[0m                             ^\u001b[0m\n\u001b[0;31mSyntaxError\u001b[0m\u001b[0;31m:\u001b[0m invalid syntax\n"
     ]
    }
   ],
   "source": [
    "m1 = Matrix([[a,b], [c,d]args=])"
   ]
  },
  {
   "cell_type": "code",
   "execution_count": 29,
   "metadata": {},
   "outputs": [],
   "source": [
    "m1 = Matrix([[a,b], [c,d]])"
   ]
  },
  {
   "cell_type": "code",
   "execution_count": 30,
   "metadata": {},
   "outputs": [
    {
     "data": {
      "text/latex": [
       "$\\displaystyle \\left[\\begin{matrix}a & b\\\\c & d\\end{matrix}\\right]$"
      ],
      "text/plain": [
       "⎡a  b⎤\n",
       "⎢    ⎥\n",
       "⎣c  d⎦"
      ]
     },
     "execution_count": 30,
     "metadata": {},
     "output_type": "execute_result"
    }
   ],
   "source": [
    "m1"
   ]
  },
  {
   "cell_type": "code",
   "execution_count": 31,
   "metadata": {},
   "outputs": [],
   "source": [
    "m2 = Matrix([[1,2], [3,4]])"
   ]
  },
  {
   "cell_type": "code",
   "execution_count": 32,
   "metadata": {},
   "outputs": [
    {
     "data": {
      "text/latex": [
       "$\\displaystyle \\left[\\begin{matrix}1 & 2\\\\3 & 4\\end{matrix}\\right]$"
      ],
      "text/plain": [
       "⎡1  2⎤\n",
       "⎢    ⎥\n",
       "⎣3  4⎦"
      ]
     },
     "execution_count": 32,
     "metadata": {},
     "output_type": "execute_result"
    }
   ],
   "source": [
    "m2"
   ]
  },
  {
   "cell_type": "code",
   "execution_count": 33,
   "metadata": {},
   "outputs": [
    {
     "data": {
      "image/png": "[encoded data removed]",
      "text/latex": [
       "$\\displaystyle a d - b c$"
      ],
      "text/plain": [
       "a⋅d - b⋅c"
      ]
     },
     "execution_count": 33,
     "metadata": {},
     "output_type": "execute_result"
    }
   ],
   "source": [
    "m1.det() # determinante"
   ]
  },
  {
   "cell_type": "code",
   "execution_count": 34,
   "metadata": {},
   "outputs": [
    {
     "ename": "NameError",
     "evalue": "name 'inv' is not defined",
     "output_type": "error",
     "traceback": [
      "\u001b[0;31m---------------------------------------------------------------------------\u001b[0m",
      "\u001b[0;31mNameError\u001b[0m                                 Traceback (most recent call last)",
      "\u001b[1;32m/Users/macbookair/Documents/Universidad San Carlos/2022/Segundo semestre/Matematica basica 2/taller/taller-2.ipynb Cell 103\u001b[0m in \u001b[0;36m<cell line: 1>\u001b[0;34m()\u001b[0m\n\u001b[0;32m----> <a href='vscode-notebook-cell:/Users/macbookair/Documents/Universidad%20San%20Carlos/2022/Segundo%20semestre/Matematica%20basica%202/taller/taller-2.ipynb#Y204sZmlsZQ%3D%3D?line=0'>1</a>\u001b[0m m1,inv()\n",
      "\u001b[0;31mNameError\u001b[0m: name 'inv' is not defined"
     ]
    }
   ],
   "source": [
    "m1,inv() # matrix inversa"
   ]
  },
  {
   "cell_type": "code",
   "execution_count": 35,
   "metadata": {},
   "outputs": [
    {
     "data": {
      "text/latex": [
       "$\\displaystyle \\left[\\begin{matrix}\\frac{d}{a d - b c} & - \\frac{b}{a d - b c}\\\\- \\frac{c}{a d - b c} & \\frac{a}{a d - b c}\\end{matrix}\\right]$"
      ],
      "text/plain": [
       "⎡    d         -b    ⎤\n",
       "⎢─────────  ─────────⎥\n",
       "⎢a⋅d - b⋅c  a⋅d - b⋅c⎥\n",
       "⎢                    ⎥\n",
       "⎢   -c          a    ⎥\n",
       "⎢─────────  ─────────⎥\n",
       "⎣a⋅d - b⋅c  a⋅d - b⋅c⎦"
      ]
     },
     "execution_count": 35,
     "metadata": {},
     "output_type": "execute_result"
    }
   ],
   "source": [
    "m1.inv() # matrix inversa"
   ]
  },
  {
   "cell_type": "code",
   "execution_count": 36,
   "metadata": {},
   "outputs": [
    {
     "data": {
      "text/latex": [
       "$\\displaystyle \\left[\\begin{matrix}a & c\\\\b & d\\end{matrix}\\right]$"
      ],
      "text/plain": [
       "⎡a  c⎤\n",
       "⎢    ⎥\n",
       "⎣b  d⎦"
      ]
     },
     "execution_count": 36,
     "metadata": {},
     "output_type": "execute_result"
    }
   ],
   "source": [
    "m1.T"
   ]
  },
  {
   "cell_type": "code",
   "execution_count": 37,
   "metadata": {},
   "outputs": [
    {
     "data": {
      "text/latex": [
       "$\\displaystyle \\left[\\begin{matrix}a + 1 & b + 2\\\\c + 3 & d + 4\\end{matrix}\\right]$"
      ],
      "text/plain": [
       "⎡a + 1  b + 2⎤\n",
       "⎢            ⎥\n",
       "⎣c + 3  d + 4⎦"
      ]
     },
     "execution_count": 37,
     "metadata": {},
     "output_type": "execute_result"
    }
   ],
   "source": [
    "m1 + m2"
   ]
  },
  {
   "cell_type": "code",
   "execution_count": 38,
   "metadata": {},
   "outputs": [
    {
     "data": {
      "text/latex": [
       "$\\displaystyle \\left[\\begin{matrix}a + 1 & b + 2\\\\c + 3 & d + 4\\end{matrix}\\right]$"
      ],
      "text/plain": [
       "⎡a + 1  b + 2⎤\n",
       "⎢            ⎥\n",
       "⎣c + 3  d + 4⎦"
      ]
     },
     "execution_count": 38,
     "metadata": {},
     "output_type": "execute_result"
    }
   ],
   "source": [
    "m1 + m2 # producto"
   ]
  },
  {
   "cell_type": "code",
   "execution_count": 39,
   "metadata": {},
   "outputs": [],
   "source": [
    "# Geometria\n",
    "## Puntos, lineas, conicas, circulos, triangulos, eclipses, intersecciones y evaluar tangencia entre elementos\n"
   ]
  },
  {
   "cell_type": "code",
   "execution_count": 40,
   "metadata": {},
   "outputs": [],
   "source": [
    "# Puntos"
   ]
  },
  {
   "cell_type": "code",
   "execution_count": 41,
   "metadata": {},
   "outputs": [],
   "source": [
    "p1 = Point(0,0)"
   ]
  },
  {
   "cell_type": "code",
   "execution_count": 42,
   "metadata": {},
   "outputs": [],
   "source": [
    "b = symbols(\"b\", positive=True)\n",
    "p2 = Point(a, 0)\n",
    "p3 = Point(a,b)"
   ]
  },
  {
   "cell_type": "code",
   "execution_count": 43,
   "metadata": {},
   "outputs": [],
   "source": [
    "t1 = Triangle(p1, p2, p3) # Triangulo\n"
   ]
  },
  {
   "cell_type": "code",
   "execution_count": 44,
   "metadata": {},
   "outputs": [
    {
     "data": {
      "image/png": "[encoded data removed]",
      "text/latex": [
       "$\\displaystyle \\frac{a b}{2}$"
      ],
      "text/plain": [
       "a⋅b\n",
       "───\n",
       " 2 "
      ]
     },
     "execution_count": 44,
     "metadata": {},
     "output_type": "execute_result"
    }
   ],
   "source": [
    "t1.area # area de un objecto"
   ]
  },
  {
   "cell_type": "code",
   "execution_count": 45,
   "metadata": {},
   "outputs": [],
   "source": [
    "c1 = Circle(p1, 10) # Circulos centro, radio\n"
   ]
  },
  {
   "cell_type": "code",
   "execution_count": 46,
   "metadata": {},
   "outputs": [],
   "source": [
    "l1= Line(Point(10,10), Point(10, -10)) # linea"
   ]
  },
  {
   "cell_type": "code",
   "execution_count": 47,
   "metadata": {},
   "outputs": [
    {
     "data": {
      "text/plain": [
       "True"
      ]
     },
     "execution_count": 47,
     "metadata": {},
     "output_type": "execute_result"
    }
   ],
   "source": [
    "c1.is_tangent(l1)"
   ]
  },
  {
   "cell_type": "code",
   "execution_count": 48,
   "metadata": {},
   "outputs": [],
   "source": [
    "l2 = Line(Point(1,1), Point(6,0))"
   ]
  },
  {
   "cell_type": "code",
   "execution_count": 49,
   "metadata": {},
   "outputs": [
    {
     "data": {
      "image/png": "[encoded data removed]",
      "text/latex": [
       "$\\displaystyle \\left[ \\operatorname{Point2D}\\left(\\frac{3}{13} - \\frac{5 \\sqrt{641}}{13}, \\frac{15}{13} + \\frac{\\sqrt{641}}{13}\\right), \\  \\operatorname{Point2D}\\left(\\frac{3}{13} + \\frac{5 \\sqrt{641}}{13}, \\frac{15}{13} - \\frac{\\sqrt{641}}{13}\\right)\\right]$"
      ],
      "text/plain": [
       "[Point2D(3/13 - 5*sqrt(641)/13, 15/13 + sqrt(641)/13), Point2D(3/13 + 5*sqrt(6\n",
       "41)/13, 15/13 - sqrt(641)/13)]"
      ]
     },
     "execution_count": 49,
     "metadata": {},
     "output_type": "execute_result"
    }
   ],
   "source": [
    "intersection(c1, l2)"
   ]
  },
  {
   "cell_type": "code",
   "execution_count": 50,
   "metadata": {},
   "outputs": [],
   "source": [
    "# Graficos"
   ]
  },
  {
   "cell_type": "code",
   "execution_count": 51,
   "metadata": {},
   "outputs": [
    {
     "name": "stdout",
     "output_type": "stream",
     "text": [
      "Help on function plot in module sympy.plotting.plot:\n",
      "\n",
      "plot(*args, show=True, **kwargs)\n",
      "    Plots a function of a single variable as a curve.\n",
      "    \n",
      "    Parameters\n",
      "    ==========\n",
      "    \n",
      "    args :\n",
      "        The first argument is the expression representing the function\n",
      "        of single variable to be plotted.\n",
      "    \n",
      "        The last argument is a 3-tuple denoting the range of the free\n",
      "        variable. e.g. ``(x, 0, 5)``\n",
      "    \n",
      "        Typical usage examples are in the followings:\n",
      "    \n",
      "        - Plotting a single expression with a single range.\n",
      "            ``plot(expr, range, **kwargs)``\n",
      "        - Plotting a single expression with the default range (-10, 10).\n",
      "            ``plot(expr, **kwargs)``\n",
      "        - Plotting multiple expressions with a single range.\n",
      "            ``plot(expr1, expr2, ..., range, **kwargs)``\n",
      "        - Plotting multiple expressions with multiple ranges.\n",
      "            ``plot((expr1, range1), (expr2, range2), ..., **kwargs)``\n",
      "    \n",
      "        It is best practice to specify range explicitly because default\n",
      "        range may change in the future if a more advanced default range\n",
      "        detection algorithm is implemented.\n",
      "    \n",
      "    show : bool, optional\n",
      "        The default value is set to ``True``. Set show to ``False`` and\n",
      "        the function will not display the plot. The returned instance of\n",
      "        the ``Plot`` class can then be used to save or display the plot\n",
      "        by calling the ``save()`` and ``show()`` methods respectively.\n",
      "    \n",
      "    line_color : string, or float, or function, optional\n",
      "        Specifies the color for the plot.\n",
      "        See ``Plot`` to see how to set color for the plots.\n",
      "        Note that by setting ``line_color``, it would be applied simultaneously\n",
      "        to all the series.\n",
      "    \n",
      "    title : str, optional\n",
      "        Title of the plot. It is set to the latex representation of\n",
      "        the expression, if the plot has only one expression.\n",
      "    \n",
      "    label : str, optional\n",
      "        The label of the expression in the plot. It will be used when\n",
      "        called with ``legend``. Default is the name of the expression.\n",
      "        e.g. ``sin(x)``\n",
      "    \n",
      "    xlabel : str, optional\n",
      "        Label for the x-axis.\n",
      "    \n",
      "    ylabel : str, optional\n",
      "        Label for the y-axis.\n",
      "    \n",
      "    xscale : 'linear' or 'log', optional\n",
      "        Sets the scaling of the x-axis.\n",
      "    \n",
      "    yscale : 'linear' or 'log', optional\n",
      "        Sets the scaling of the y-axis.\n",
      "    \n",
      "    axis_center : (float, float), optional\n",
      "        Tuple of two floats denoting the coordinates of the center or\n",
      "        {'center', 'auto'}\n",
      "    \n",
      "    xlim : (float, float), optional\n",
      "        Denotes the x-axis limits, ``(min, max)```.\n",
      "    \n",
      "    ylim : (float, float), optional\n",
      "        Denotes the y-axis limits, ``(min, max)```.\n",
      "    \n",
      "    annotations : list, optional\n",
      "        A list of dictionaries specifying the type of annotation\n",
      "        required. The keys in the dictionary should be equivalent\n",
      "        to the arguments of the matplotlib's annotate() function.\n",
      "    \n",
      "    markers : list, optional\n",
      "        A list of dictionaries specifying the type the markers required.\n",
      "        The keys in the dictionary should be equivalent to the arguments\n",
      "        of the matplotlib's plot() function along with the marker\n",
      "        related keyworded arguments.\n",
      "    \n",
      "    rectangles : list, optional\n",
      "        A list of dictionaries specifying the dimensions of the\n",
      "        rectangles to be plotted. The keys in the dictionary should be\n",
      "        equivalent to the arguments of the matplotlib's\n",
      "        patches.Rectangle class.\n",
      "    \n",
      "    fill : dict, optional\n",
      "        A dictionary specifying the type of color filling required in\n",
      "        the plot. The keys in the dictionary should be equivalent to the\n",
      "        arguments of the matplotlib's fill_between() function.\n",
      "    \n",
      "    adaptive : bool, optional\n",
      "        The default value is set to ``True``. Set adaptive to ``False``\n",
      "        and specify ``nb_of_points`` if uniform sampling is required.\n",
      "    \n",
      "        The plotting uses an adaptive algorithm which samples\n",
      "        recursively to accurately plot. The adaptive algorithm uses a\n",
      "        random point near the midpoint of two points that has to be\n",
      "        further sampled. Hence the same plots can appear slightly\n",
      "        different.\n",
      "    \n",
      "    depth : int, optional\n",
      "        Recursion depth of the adaptive algorithm. A depth of value\n",
      "        ``n`` samples a maximum of `2^{n}` points.\n",
      "    \n",
      "        If the ``adaptive`` flag is set to ``False``, this will be\n",
      "        ignored.\n",
      "    \n",
      "    nb_of_points : int, optional\n",
      "        Used when the ``adaptive`` is set to ``False``. The function\n",
      "        is uniformly sampled at ``nb_of_points`` number of points.\n",
      "    \n",
      "        If the ``adaptive`` flag is set to ``True``, this will be\n",
      "        ignored.\n",
      "    \n",
      "    size : (float, float), optional\n",
      "        A tuple in the form (width, height) in inches to specify the size of\n",
      "        the overall figure. The default value is set to ``None``, meaning\n",
      "        the size will be set by the default backend.\n",
      "    \n",
      "    Examples\n",
      "    ========\n",
      "    \n",
      "    .. plot::\n",
      "       :context: close-figs\n",
      "       :format: doctest\n",
      "       :include-source: True\n",
      "    \n",
      "       >>> from sympy import symbols\n",
      "       >>> from sympy.plotting import plot\n",
      "       >>> x = symbols('x')\n",
      "    \n",
      "    Single Plot\n",
      "    \n",
      "    .. plot::\n",
      "       :context: close-figs\n",
      "       :format: doctest\n",
      "       :include-source: True\n",
      "    \n",
      "       >>> plot(x**2, (x, -5, 5))\n",
      "       Plot object containing:\n",
      "       [0]: cartesian line: x**2 for x over (-5.0, 5.0)\n",
      "    \n",
      "    Multiple plots with single range.\n",
      "    \n",
      "    .. plot::\n",
      "       :context: close-figs\n",
      "       :format: doctest\n",
      "       :include-source: True\n",
      "    \n",
      "       >>> plot(x, x**2, x**3, (x, -5, 5))\n",
      "       Plot object containing:\n",
      "       [0]: cartesian line: x for x over (-5.0, 5.0)\n",
      "       [1]: cartesian line: x**2 for x over (-5.0, 5.0)\n",
      "       [2]: cartesian line: x**3 for x over (-5.0, 5.0)\n",
      "    \n",
      "    Multiple plots with different ranges.\n",
      "    \n",
      "    .. plot::\n",
      "       :context: close-figs\n",
      "       :format: doctest\n",
      "       :include-source: True\n",
      "    \n",
      "       >>> plot((x**2, (x, -6, 6)), (x, (x, -5, 5)))\n",
      "       Plot object containing:\n",
      "       [0]: cartesian line: x**2 for x over (-6.0, 6.0)\n",
      "       [1]: cartesian line: x for x over (-5.0, 5.0)\n",
      "    \n",
      "    No adaptive sampling.\n",
      "    \n",
      "    .. plot::\n",
      "       :context: close-figs\n",
      "       :format: doctest\n",
      "       :include-source: True\n",
      "    \n",
      "       >>> plot(x**2, adaptive=False, nb_of_points=400)\n",
      "       Plot object containing:\n",
      "       [0]: cartesian line: x**2 for x over (-10.0, 10.0)\n",
      "    \n",
      "    See Also\n",
      "    ========\n",
      "    \n",
      "    Plot, LineOver1DRangeSeries\n",
      "\n"
     ]
    }
   ],
   "source": [
    "help(plot)"
   ]
  },
  {
   "cell_type": "code",
   "execution_count": 52,
   "metadata": {},
   "outputs": [
    {
     "data": {
      "image/png": "[encoded data removed]",
      "text/plain": [
       "<Figure size 432x288 with 1 Axes>"
      ]
     },
     "metadata": {
      "needs_background": "light"
     },
     "output_type": "display_data"
    },
    {
     "data": {
      "text/plain": [
       "<sympy.plotting.plot.Plot at 0x1467a08e0>"
      ]
     },
     "execution_count": 52,
     "metadata": {},
     "output_type": "execute_result"
    }
   ],
   "source": [
    "plot(x**2)"
   ]
  },
  {
   "cell_type": "code",
   "execution_count": 53,
   "metadata": {},
   "outputs": [
    {
     "data": {
      "image/png": "[encoded data removed]",
      "text/plain": [
       "<Figure size 432x288 with 1 Axes>"
      ]
     },
     "metadata": {
      "needs_background": "light"
     },
     "output_type": "display_data"
    },
    {
     "data": {
      "text/plain": [
       "<sympy.plotting.plot.Plot at 0x14682b130>"
      ]
     },
     "execution_count": 53,
     "metadata": {},
     "output_type": "execute_result"
    }
   ],
   "source": [
    "plot(x**2, (x, -5, 5))"
   ]
  },
  {
   "cell_type": "code",
   "execution_count": 54,
   "metadata": {},
   "outputs": [
    {
     "data": {
      "image/png": "[encoded data removed]",
      "text/plain": [
       "<Figure size 432x288 with 1 Axes>"
      ]
     },
     "metadata": {
      "needs_background": "light"
     },
     "output_type": "display_data"
    },
    {
     "data": {
      "text/plain": [
       "<sympy.plotting.plot.Plot at 0x146893400>"
      ]
     },
     "execution_count": 54,
     "metadata": {},
     "output_type": "execute_result"
    }
   ],
   "source": [
    "plot(x**2, (x, -5, 5), ylimit=(0, 50))"
   ]
  },
  {
   "cell_type": "code",
   "execution_count": 55,
   "metadata": {},
   "outputs": [
    {
     "data": {
      "image/png": "[encoded data removed]",
      "text/plain": [
       "<Figure size 432x288 with 1 Axes>"
      ]
     },
     "metadata": {
      "needs_background": "light"
     },
     "output_type": "display_data"
    },
    {
     "data": {
      "text/plain": [
       "<sympy.plotting.plot.Plot at 0x1468f1d60>"
      ]
     },
     "execution_count": 55,
     "metadata": {},
     "output_type": "execute_result"
    }
   ],
   "source": [
    "plot(x**2, (x, -5, 5), ylimit=(0, 50), xlabel = \"Tiempo (s)\") # nombre a los ejes"
   ]
  },
  {
   "cell_type": "code",
   "execution_count": null,
   "metadata": {},
   "outputs": [],
   "source": []
  },
  {
   "cell_type": "code",
   "execution_count": 58,
   "metadata": {},
   "outputs": [
    {
     "data": {
      "image/png": "[encoded data removed]",
      "text/plain": [
       "<Figure size 432x288 with 1 Axes>"
      ]
     },
     "metadata": {
      "needs_background": "light"
     },
     "output_type": "display_data"
    },
    {
     "data": {
      "text/plain": [
       "<sympy.plotting.plot.Plot at 0x146a2ae20>"
      ]
     },
     "execution_count": 58,
     "metadata": {},
     "output_type": "execute_result"
    }
   ],
   "source": [
    "# Curvas en 3D\n",
    "from sympy.plotting import plot3d \n",
    "plot3d(x**2+y**2)"
   ]
  },
  {
   "cell_type": "code",
   "execution_count": null,
   "metadata": {},
   "outputs": [],
   "source": []
  }
 ],
 "metadata": {
  "kernelspec": {
   "display_name": "Python 3.9.12 ('base')",
   "language": "python",
   "name": "python3"
  },
  "language_info": {
   "codemirror_mode": {
    "name": "ipython",
    "version": 3
   },
   "file_extension": ".py",
   "mimetype": "text/x-python",
   "name": "python",
   "nbconvert_exporter": "python",
   "pygments_lexer": "ipython3",
   "version": "3.9.12"
  },
  "orig_nbformat": 4,
  "vscode": {
   "interpreter": {
    "hash": "29b762e6ebb16630dc180eb4a7876cc2a2c9b1bf58b2cade60381b48a6cb6e19"
   }
  }
 },
 "nbformat": 4,
 "nbformat_minor": 2
}
